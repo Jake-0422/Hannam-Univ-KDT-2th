{
 "cells": [
  {
   "cell_type": "code",
   "execution_count": 1,
   "id": "fc462d3f",
   "metadata": {},
   "outputs": [
    {
     "name": "stdout",
     "output_type": "stream",
     "text": [
      "100보다 큰 숫자와 10보다 작은 숫자를 입력하세요 : 300 14\n",
      "14 은(는) 300 안에 21 번 들어갑니다.\n"
     ]
    }
   ],
   "source": [
    "#1번\n",
    "#사용자로부터 100이 넘는 숫자를 입력받고 10 미만의 숫자 하나를 입력받은 후, 작은 숫자가 큰 숫자 안에 몇 번 들어가는지 사용자 친화적인 형식으로 출력하라.\n",
    "\n",
    "a = input(\"100보다 큰 숫자와 10보다 작은 숫자를 입력하세요 : \").split()\n",
    "b = int(a[0]) / int(a[1])\n",
    "print(int(a[1]), \"은(는)\", int(a[0]), \"안에\", int(b), \"번 들어갑니다.\")\n"
   ]
  },
  {
   "cell_type": "code",
   "execution_count": 21,
   "id": "8bf7be52",
   "metadata": {},
   "outputs": [
    {
     "name": "stdout",
     "output_type": "stream",
     "text": [
      "영어 단어를 입력하세요 : apple\n",
      "ppleaay\n"
     ]
    }
   ],
   "source": [
    "#2번\n",
    "#피그 라틴(Pig Latin)은 단어의 첫 자음을 가져와서 단어 끝으로 이동하고 마지막에 'ay' 추가한다.\n",
    "#사용자에게 단어를 입력받아서 피그 라틴으로 변환하고 소문자로 출력하는 프로그램을 만들어라.\n",
    "\n",
    "word = input(\"영어 단어를 입력하세요 : \").lower()\n",
    "if word[0] != 'a' or 'e' or 'i' or 'o' or 'u':\n",
    "    print(word[1:] + word[0] + 'ay')\n",
    "    \n",
    "else:\n",
    "    print(word[0] + word[2:] + word[1] + 'ay')\n"
   ]
  },
  {
   "cell_type": "markdown",
   "id": "30fb2b13",
   "metadata": {},
   "source": [
    "### 점프 투 파이썬\n",
    "#### P.112~115"
   ]
  },
  {
   "cell_type": "code",
   "execution_count": 8,
   "id": "851d5297",
   "metadata": {},
   "outputs": [
    {
     "name": "stdout",
     "output_type": "stream",
     "text": [
      "881120\n",
      "1068234\n"
     ]
    }
   ],
   "source": [
    "# Q3\n",
    "pin = \"881120-1068234\"\n",
    "yyyymmdd = pin[0:6]\n",
    "num = pin[7:14]\n",
    "print(yyyymmdd)\n",
    "print(num)"
   ]
  },
  {
   "cell_type": "code",
   "execution_count": 13,
   "id": "2ae512dc",
   "metadata": {},
   "outputs": [
    {
     "name": "stdout",
     "output_type": "stream",
     "text": [
      "1\n"
     ]
    }
   ],
   "source": [
    "# Q4\n",
    "pin = \"881120-1068234\"\n",
    "print(pin[7])"
   ]
  },
  {
   "cell_type": "code",
   "execution_count": 16,
   "id": "d7bf6a51",
   "metadata": {},
   "outputs": [
    {
     "name": "stdout",
     "output_type": "stream",
     "text": [
      "a#b#c#d\n"
     ]
    }
   ],
   "source": [
    "# Q5\n",
    "a = \"a:b:c:d\"\n",
    "b = a.replace(':', '#')\n",
    "print(b)"
   ]
  },
  {
   "cell_type": "code",
   "execution_count": 22,
   "id": "ef57b33c",
   "metadata": {},
   "outputs": [
    {
     "name": "stdout",
     "output_type": "stream",
     "text": [
      "[5, 4, 3, 2, 1]\n"
     ]
    }
   ],
   "source": [
    "# Q6\n",
    "a = [1, 3, 5, 4, 2]\n",
    "a.sort() # 리스트 정렬\n",
    "a.reverse() # 역순정렬\n",
    "print(a)"
   ]
  },
  {
   "cell_type": "code",
   "execution_count": 26,
   "id": "b34e9434",
   "metadata": {},
   "outputs": [
    {
     "name": "stdout",
     "output_type": "stream",
     "text": [
      "Life is too short\n"
     ]
    }
   ],
   "source": [
    "# Q7\n",
    "a = ['Life', 'is', 'too', 'short']\n",
    "result = \" \".join(a)\n",
    "print(result)"
   ]
  },
  {
   "cell_type": "code",
   "execution_count": 32,
   "id": "988ee8fa",
   "metadata": {},
   "outputs": [
    {
     "name": "stdout",
     "output_type": "stream",
     "text": [
      "(1, 2, 3, 4)\n"
     ]
    }
   ],
   "source": [
    "# Q8\n",
    "a = (1, 2, 3)\n",
    "a = a + (4,)\n",
    "print(a)"
   ]
  },
  {
   "cell_type": "code",
   "execution_count": 36,
   "id": "cf5fc614",
   "metadata": {},
   "outputs": [
    {
     "name": "stdout",
     "output_type": "stream",
     "text": [
      "{'A': 90, 'C': 70}\n",
      "80\n"
     ]
    }
   ],
   "source": [
    "# Q10\n",
    "a = {'A':90, 'B':80, 'C':70}\n",
    "result = a.pop('B')\n",
    "print(a)\n",
    "print(result)"
   ]
  },
  {
   "cell_type": "code",
   "execution_count": 38,
   "id": "9369d800",
   "metadata": {},
   "outputs": [
    {
     "name": "stdout",
     "output_type": "stream",
     "text": [
      "[1, 2, 3, 4, 5]\n"
     ]
    }
   ],
   "source": [
    "# Q11\n",
    "a = [1, 1, 1, 2, 2, 3, 3, 3, 4, 4, 5]\n",
    "aSet = set(a)\n",
    "b = list(aSet)\n",
    "print(b)"
   ]
  },
  {
   "cell_type": "code",
   "execution_count": 1,
   "id": "8148009b",
   "metadata": {},
   "outputs": [
    {
     "name": "stdout",
     "output_type": "stream",
     "text": [
      "[1, 4, 3]\n"
     ]
    }
   ],
   "source": [
    "# Q12\n",
    "a = b = [1, 2, 3]\n",
    "a[1] = 4\n",
    "print(b)"
   ]
  },
  {
   "cell_type": "code",
   "execution_count": 13,
   "id": "ae780239",
   "metadata": {},
   "outputs": [
    {
     "name": "stdout",
     "output_type": "stream",
     "text": [
      "성적을 입력하세요 : 80\n",
      "당신의 성적은 B 입니다.\n"
     ]
    }
   ],
   "source": [
    "# 성적 입력, 등급 산출\n",
    "\n",
    "score = int(input(\"성적을 입력하세요 : \"))\n",
    "\n",
    "if score >= 90:\n",
    "    print(\"당신의 성적은 A 입니다.\")\n",
    "    \n",
    "elif score >= 80: print(\"당신의 성적은 B 입니다.\")\n",
    "elif score >= 70: print(\"당신의 성적은 C 입니다.\")\n",
    "elif score >= 60: print(\"당신의 성적은 D 입니다.\")\n",
    "\n",
    "else:\n",
    "    print(\"당신의 성적은 F 입니다.\")"
   ]
  },
  {
   "cell_type": "code",
   "execution_count": 16,
   "id": "fcd00ef1",
   "metadata": {},
   "outputs": [
    {
     "name": "stdout",
     "output_type": "stream",
     "text": [
      "성적을 입력하세요 : 75\n",
      "당신의 성적은 75 입니다.\n"
     ]
    }
   ],
   "source": [
    "grade = int(input(\"성적을 입력하세요 : \"))\n",
    "\n",
    "if grade >= 90 :\n",
    "    print(\"당신의 성적은\", str(grade), \"입니다.\")\n",
    "elif 90 > grade >= 60 :\n",
    "    print(\"당신의 성적은\", str(grade), \"입니다.\")\n",
    "else :\n",
    "    print(\"당신의 성적은\", str(grade), \"입니다.\")"
   ]
  }
 ],
 "metadata": {
  "kernelspec": {
   "display_name": "Python 3 (ipykernel)",
   "language": "python",
   "name": "python3"
  },
  "language_info": {
   "codemirror_mode": {
    "name": "ipython",
    "version": 3
   },
   "file_extension": ".py",
   "mimetype": "text/x-python",
   "name": "python",
   "nbconvert_exporter": "python",
   "pygments_lexer": "ipython3",
   "version": "3.9.7"
  }
 },
 "nbformat": 4,
 "nbformat_minor": 5
}
