{
 "cells": [
  {
   "cell_type": "code",
   "execution_count": 1,
   "id": "70da97ad",
   "metadata": {},
   "outputs": [
    {
     "name": "stdout",
     "output_type": "stream",
     "text": [
      "There is 3\n"
     ]
    }
   ],
   "source": [
    "#p.35 연습문제 No.1\n",
    "if 3 in range(5):\n",
    "    print('There is 3')"
   ]
  },
  {
   "cell_type": "code",
   "execution_count": 2,
   "id": "b2860d8f",
   "metadata": {},
   "outputs": [
    {
     "name": "stdout",
     "output_type": "stream",
     "text": [
      "0\n",
      "1\n",
      "2\n",
      "3\n",
      "4\n",
      "5\n",
      "6\n",
      "7\n",
      "8\n",
      "9\n"
     ]
    }
   ],
   "source": [
    "#p.35 연습문제 No.2\n",
    "for i in range(10):\n",
    "    print(i)"
   ]
  },
  {
   "cell_type": "code",
   "execution_count": 10,
   "id": "67199827",
   "metadata": {
    "scrolled": true
   },
   "outputs": [
    {
     "name": "stdout",
     "output_type": "stream",
     "text": [
      "2 x 1 = 2\n",
      "2 x 2 = 4\n",
      "2 x 3 = 6\n",
      "2 x 4 = 8\n",
      "2 x 5 = 10\n",
      "2 x 6 = 12\n",
      "2 x 7 = 14\n",
      "2 x 8 = 16\n",
      "2 x 9 = 18\n",
      "2 x 10 = 20\n",
      "2 x 11 = 22\n",
      "2 x 12 = 24\n",
      "2 x 13 = 26\n",
      "2 x 14 = 28\n",
      "2 x 15 = 30\n",
      "2 x 16 = 32\n",
      "2 x 17 = 34\n",
      "2 x 18 = 36\n",
      "2 x 19 = 38\n",
      "\n",
      "3 x 1 = 3\n",
      "3 x 2 = 6\n",
      "3 x 3 = 9\n",
      "3 x 4 = 12\n",
      "3 x 5 = 15\n",
      "3 x 6 = 18\n",
      "3 x 7 = 21\n",
      "3 x 8 = 24\n",
      "3 x 9 = 27\n",
      "3 x 10 = 30\n",
      "3 x 11 = 33\n",
      "3 x 12 = 36\n",
      "3 x 13 = 39\n",
      "3 x 14 = 42\n",
      "3 x 15 = 45\n",
      "3 x 16 = 48\n",
      "3 x 17 = 51\n",
      "3 x 18 = 54\n",
      "3 x 19 = 57\n",
      "\n",
      "4 x 1 = 4\n",
      "4 x 2 = 8\n",
      "4 x 3 = 12\n",
      "4 x 4 = 16\n",
      "4 x 5 = 20\n",
      "4 x 6 = 24\n",
      "4 x 7 = 28\n",
      "4 x 8 = 32\n",
      "4 x 9 = 36\n",
      "4 x 10 = 40\n",
      "4 x 11 = 44\n",
      "4 x 12 = 48\n",
      "4 x 13 = 52\n",
      "4 x 14 = 56\n",
      "4 x 15 = 60\n",
      "4 x 16 = 64\n",
      "4 x 17 = 68\n",
      "4 x 18 = 72\n",
      "4 x 19 = 76\n",
      "\n",
      "5 x 1 = 5\n",
      "5 x 2 = 10\n",
      "5 x 3 = 15\n",
      "5 x 4 = 20\n",
      "5 x 5 = 25\n",
      "5 x 6 = 30\n",
      "5 x 7 = 35\n",
      "5 x 8 = 40\n",
      "5 x 9 = 45\n",
      "5 x 10 = 50\n",
      "5 x 11 = 55\n",
      "5 x 12 = 60\n",
      "5 x 13 = 65\n",
      "5 x 14 = 70\n",
      "5 x 15 = 75\n",
      "5 x 16 = 80\n",
      "5 x 17 = 85\n",
      "5 x 18 = 90\n",
      "5 x 19 = 95\n",
      "\n",
      "6 x 1 = 6\n",
      "6 x 2 = 12\n",
      "6 x 3 = 18\n",
      "6 x 4 = 24\n",
      "6 x 5 = 30\n",
      "6 x 6 = 36\n",
      "6 x 7 = 42\n",
      "6 x 8 = 48\n",
      "6 x 9 = 54\n",
      "6 x 10 = 60\n",
      "6 x 11 = 66\n",
      "6 x 12 = 72\n",
      "6 x 13 = 78\n",
      "6 x 14 = 84\n",
      "6 x 15 = 90\n",
      "6 x 16 = 96\n",
      "6 x 17 = 102\n",
      "6 x 18 = 108\n",
      "6 x 19 = 114\n",
      "\n",
      "7 x 1 = 7\n",
      "7 x 2 = 14\n",
      "7 x 3 = 21\n",
      "7 x 4 = 28\n",
      "7 x 5 = 35\n",
      "7 x 6 = 42\n",
      "7 x 7 = 49\n",
      "7 x 8 = 56\n",
      "7 x 9 = 63\n",
      "7 x 10 = 70\n",
      "7 x 11 = 77\n",
      "7 x 12 = 84\n",
      "7 x 13 = 91\n",
      "7 x 14 = 98\n",
      "7 x 15 = 105\n",
      "7 x 16 = 112\n",
      "7 x 17 = 119\n",
      "7 x 18 = 126\n",
      "7 x 19 = 133\n",
      "\n",
      "8 x 1 = 8\n",
      "8 x 2 = 16\n",
      "8 x 3 = 24\n",
      "8 x 4 = 32\n",
      "8 x 5 = 40\n",
      "8 x 6 = 48\n",
      "8 x 7 = 56\n",
      "8 x 8 = 64\n",
      "8 x 9 = 72\n",
      "8 x 10 = 80\n",
      "8 x 11 = 88\n",
      "8 x 12 = 96\n",
      "8 x 13 = 104\n",
      "8 x 14 = 112\n",
      "8 x 15 = 120\n",
      "8 x 16 = 128\n",
      "8 x 17 = 136\n",
      "8 x 18 = 144\n",
      "8 x 19 = 152\n",
      "\n",
      "9 x 1 = 9\n",
      "9 x 2 = 18\n",
      "9 x 3 = 27\n",
      "9 x 4 = 36\n",
      "9 x 5 = 45\n",
      "9 x 6 = 54\n",
      "9 x 7 = 63\n",
      "9 x 8 = 72\n",
      "9 x 9 = 81\n",
      "9 x 10 = 90\n",
      "9 x 11 = 99\n",
      "9 x 12 = 108\n",
      "9 x 13 = 117\n",
      "9 x 14 = 126\n",
      "9 x 15 = 135\n",
      "9 x 16 = 144\n",
      "9 x 17 = 153\n",
      "9 x 18 = 162\n",
      "9 x 19 = 171\n",
      "\n",
      "10 x 1 = 10\n",
      "10 x 2 = 20\n",
      "10 x 3 = 30\n",
      "10 x 4 = 40\n",
      "10 x 5 = 50\n",
      "10 x 6 = 60\n",
      "10 x 7 = 70\n",
      "10 x 8 = 80\n",
      "10 x 9 = 90\n",
      "10 x 10 = 100\n",
      "10 x 11 = 110\n",
      "10 x 12 = 120\n",
      "10 x 13 = 130\n",
      "10 x 14 = 140\n",
      "10 x 15 = 150\n",
      "10 x 16 = 160\n",
      "10 x 17 = 170\n",
      "10 x 18 = 180\n",
      "10 x 19 = 190\n",
      "\n",
      "11 x 1 = 11\n",
      "11 x 2 = 22\n",
      "11 x 3 = 33\n",
      "11 x 4 = 44\n",
      "11 x 5 = 55\n",
      "11 x 6 = 66\n",
      "11 x 7 = 77\n",
      "11 x 8 = 88\n",
      "11 x 9 = 99\n",
      "11 x 10 = 110\n",
      "11 x 11 = 121\n",
      "11 x 12 = 132\n",
      "11 x 13 = 143\n",
      "11 x 14 = 154\n",
      "11 x 15 = 165\n",
      "11 x 16 = 176\n",
      "11 x 17 = 187\n",
      "11 x 18 = 198\n",
      "11 x 19 = 209\n",
      "\n",
      "12 x 1 = 12\n",
      "12 x 2 = 24\n",
      "12 x 3 = 36\n",
      "12 x 4 = 48\n",
      "12 x 5 = 60\n",
      "12 x 6 = 72\n",
      "12 x 7 = 84\n",
      "12 x 8 = 96\n",
      "12 x 9 = 108\n",
      "12 x 10 = 120\n",
      "12 x 11 = 132\n",
      "12 x 12 = 144\n",
      "12 x 13 = 156\n",
      "12 x 14 = 168\n",
      "12 x 15 = 180\n",
      "12 x 16 = 192\n",
      "12 x 17 = 204\n",
      "12 x 18 = 216\n",
      "12 x 19 = 228\n",
      "\n",
      "13 x 1 = 13\n",
      "13 x 2 = 26\n",
      "13 x 3 = 39\n",
      "13 x 4 = 52\n",
      "13 x 5 = 65\n",
      "13 x 6 = 78\n",
      "13 x 7 = 91\n",
      "13 x 8 = 104\n",
      "13 x 9 = 117\n",
      "13 x 10 = 130\n",
      "13 x 11 = 143\n",
      "13 x 12 = 156\n",
      "13 x 13 = 169\n",
      "13 x 14 = 182\n",
      "13 x 15 = 195\n",
      "13 x 16 = 208\n",
      "13 x 17 = 221\n",
      "13 x 18 = 234\n",
      "13 x 19 = 247\n",
      "\n",
      "14 x 1 = 14\n",
      "14 x 2 = 28\n",
      "14 x 3 = 42\n",
      "14 x 4 = 56\n",
      "14 x 5 = 70\n",
      "14 x 6 = 84\n",
      "14 x 7 = 98\n",
      "14 x 8 = 112\n",
      "14 x 9 = 126\n",
      "14 x 10 = 140\n",
      "14 x 11 = 154\n",
      "14 x 12 = 168\n",
      "14 x 13 = 182\n",
      "14 x 14 = 196\n",
      "14 x 15 = 210\n",
      "14 x 16 = 224\n",
      "14 x 17 = 238\n",
      "14 x 18 = 252\n",
      "14 x 19 = 266\n",
      "\n",
      "15 x 1 = 15\n",
      "15 x 2 = 30\n",
      "15 x 3 = 45\n",
      "15 x 4 = 60\n",
      "15 x 5 = 75\n",
      "15 x 6 = 90\n",
      "15 x 7 = 105\n",
      "15 x 8 = 120\n",
      "15 x 9 = 135\n",
      "15 x 10 = 150\n",
      "15 x 11 = 165\n",
      "15 x 12 = 180\n",
      "15 x 13 = 195\n",
      "15 x 14 = 210\n",
      "15 x 15 = 225\n",
      "15 x 16 = 240\n",
      "15 x 17 = 255\n",
      "15 x 18 = 270\n",
      "15 x 19 = 285\n",
      "\n",
      "16 x 1 = 16\n",
      "16 x 2 = 32\n",
      "16 x 3 = 48\n",
      "16 x 4 = 64\n",
      "16 x 5 = 80\n",
      "16 x 6 = 96\n",
      "16 x 7 = 112\n",
      "16 x 8 = 128\n",
      "16 x 9 = 144\n",
      "16 x 10 = 160\n",
      "16 x 11 = 176\n",
      "16 x 12 = 192\n",
      "16 x 13 = 208\n",
      "16 x 14 = 224\n",
      "16 x 15 = 240\n",
      "16 x 16 = 256\n",
      "16 x 17 = 272\n",
      "16 x 18 = 288\n",
      "16 x 19 = 304\n",
      "\n",
      "17 x 1 = 17\n",
      "17 x 2 = 34\n",
      "17 x 3 = 51\n",
      "17 x 4 = 68\n",
      "17 x 5 = 85\n",
      "17 x 6 = 102\n",
      "17 x 7 = 119\n",
      "17 x 8 = 136\n",
      "17 x 9 = 153\n",
      "17 x 10 = 170\n",
      "17 x 11 = 187\n",
      "17 x 12 = 204\n",
      "17 x 13 = 221\n",
      "17 x 14 = 238\n",
      "17 x 15 = 255\n",
      "17 x 16 = 272\n",
      "17 x 17 = 289\n",
      "17 x 18 = 306\n",
      "17 x 19 = 323\n",
      "\n",
      "18 x 1 = 18\n",
      "18 x 2 = 36\n",
      "18 x 3 = 54\n",
      "18 x 4 = 72\n",
      "18 x 5 = 90\n",
      "18 x 6 = 108\n",
      "18 x 7 = 126\n",
      "18 x 8 = 144\n",
      "18 x 9 = 162\n",
      "18 x 10 = 180\n",
      "18 x 11 = 198\n",
      "18 x 12 = 216\n",
      "18 x 13 = 234\n",
      "18 x 14 = 252\n",
      "18 x 15 = 270\n",
      "18 x 16 = 288\n",
      "18 x 17 = 306\n",
      "18 x 18 = 324\n",
      "18 x 19 = 342\n",
      "\n",
      "19 x 1 = 19\n",
      "19 x 2 = 38\n",
      "19 x 3 = 57\n",
      "19 x 4 = 76\n",
      "19 x 5 = 95\n",
      "19 x 6 = 114\n",
      "19 x 7 = 133\n",
      "19 x 8 = 152\n",
      "19 x 9 = 171\n",
      "19 x 10 = 190\n",
      "19 x 11 = 209\n",
      "19 x 12 = 228\n",
      "19 x 13 = 247\n",
      "19 x 14 = 266\n",
      "19 x 15 = 285\n",
      "19 x 16 = 304\n",
      "19 x 17 = 323\n",
      "19 x 18 = 342\n",
      "19 x 19 = 361\n",
      "\n"
     ]
    }
   ],
   "source": [
    "for i in range(2, 20):\n",
    "    for j in range(1, 20):\n",
    "        print(i, 'x', j, '=', i * j)\n",
    "    print()"
   ]
  },
  {
   "cell_type": "markdown",
   "id": "822e1dda",
   "metadata": {},
   "source": [
    "### 부가세 출력 프로그램 만들기\n",
    "\n",
    "- 소비자 가격 = 물건 가격 x 1.1\n",
    "\n",
    "- 물건 가격 = 소비자 가격 x 1/1.1\n",
    "\n",
    "- 부가세 물건 가격 x 0.1 = 소비자 가격 x 1/11"
   ]
  },
  {
   "cell_type": "code",
   "execution_count": 11,
   "id": "d9db9443",
   "metadata": {},
   "outputs": [
    {
     "data": {
      "text/plain": [
       "5500.0"
      ]
     },
     "execution_count": 11,
     "metadata": {},
     "output_type": "execute_result"
    }
   ],
   "source": [
    "#물건가격 5,000원, 부가세 10%\n",
    "\n",
    "#소비자 가격\n",
    "5000 * 1.1"
   ]
  },
  {
   "cell_type": "code",
   "execution_count": 13,
   "id": "3caf4399",
   "metadata": {
    "scrolled": true
   },
   "outputs": [
    {
     "data": {
      "text/plain": [
       "5000.0"
      ]
     },
     "execution_count": 13,
     "metadata": {},
     "output_type": "execute_result"
    }
   ],
   "source": [
    "#부가세가 포함된 소비자 가격에서 원래 물건 가격\n",
    "5500 / 1.1"
   ]
  },
  {
   "cell_type": "code",
   "execution_count": 14,
   "id": "b1ac6bb6",
   "metadata": {},
   "outputs": [
    {
     "data": {
      "text/plain": [
       "7272.727272727272"
      ]
     },
     "execution_count": 14,
     "metadata": {},
     "output_type": "execute_result"
    }
   ],
   "source": [
    "#점심값 = 8000, 물건가격은?\n",
    "8000 / 1.1"
   ]
  },
  {
   "cell_type": "code",
   "execution_count": 15,
   "id": "63b57b65",
   "metadata": {},
   "outputs": [
    {
     "data": {
      "text/plain": [
       "7272.7"
      ]
     },
     "execution_count": 15,
     "metadata": {},
     "output_type": "execute_result"
    }
   ],
   "source": [
    "#round 함수사용, 소수점 첫째자리까지 구하기\n",
    "round(8000 / 1.1, 1)"
   ]
  },
  {
   "cell_type": "code",
   "execution_count": 17,
   "id": "1e8ea06d",
   "metadata": {},
   "outputs": [
    {
     "data": {
      "text/plain": [
       "7273"
      ]
     },
     "execution_count": 17,
     "metadata": {},
     "output_type": "execute_result"
    }
   ],
   "source": [
    "#두 번째 변수에 아무것도 입력하지 않으면 소수점 이하의 값 반올림\n",
    "round(8000 / 1.1)"
   ]
  },
  {
   "cell_type": "code",
   "execution_count": 18,
   "id": "7112cee7",
   "metadata": {},
   "outputs": [
    {
     "data": {
      "text/plain": [
       "727"
      ]
     },
     "execution_count": 18,
     "metadata": {},
     "output_type": "execute_result"
    }
   ],
   "source": [
    "#부가세는?\n",
    "8000 - 7273"
   ]
  },
  {
   "cell_type": "code",
   "execution_count": 19,
   "id": "c2c686bb",
   "metadata": {},
   "outputs": [
    {
     "data": {
      "text/plain": [
       "727"
      ]
     },
     "execution_count": 19,
     "metadata": {},
     "output_type": "execute_result"
    }
   ],
   "source": [
    "#8000원짜리 점심값은 7,273원 부가세는 727원\n",
    "round(8000 * (1/11))"
   ]
  },
  {
   "cell_type": "markdown",
   "id": "0a530485",
   "metadata": {},
   "source": [
    "### lambda 함수\n",
    "단 한 줄로 함수를 만들어냄"
   ]
  },
  {
   "cell_type": "code",
   "execution_count": 20,
   "id": "a9170e5b",
   "metadata": {},
   "outputs": [
    {
     "data": {
      "text/plain": [
       "36"
      ]
     },
     "execution_count": 20,
     "metadata": {},
     "output_type": "execute_result"
    }
   ],
   "source": [
    "y = lambda x : 3 * x #lambda 함수\n",
    "y(12)"
   ]
  },
  {
   "cell_type": "code",
   "execution_count": 21,
   "id": "88e60d3f",
   "metadata": {},
   "outputs": [
    {
     "data": {
      "text/plain": [
       "5"
      ]
     },
     "execution_count": 21,
     "metadata": {},
     "output_type": "execute_result"
    }
   ],
   "source": [
    "add = lambda a, b : a + b #lambda 함수\n",
    "add(2, 3)"
   ]
  },
  {
   "cell_type": "code",
   "execution_count": 24,
   "id": "79730b2c",
   "metadata": {},
   "outputs": [],
   "source": [
    "littlePrince = '''여섯 살 적에 나는 '체험한 이야기'라는 제목의, 원시림에 관한 책에서 기막힌 그림 하나를 본 적이 있다.\n",
    "맹수를 집어삼키고 있는 보아뱀 그림이었다. 위의 그림은 그것을 옮겨 그린 것이다. 그 책에는 이렇게 씌어 있었다.\n",
    "'보아뱀은 먹이를 씹지도 않고 통째로 집어삼킨다. 그리고는 꼼짝도 하지 못하고 여섯 달 동안 잠을 자면서 그것을 소화시킨다.' '''"
   ]
  },
  {
   "cell_type": "code",
   "execution_count": 25,
   "id": "b2bc96ae",
   "metadata": {},
   "outputs": [
    {
     "data": {
      "text/plain": [
       "'여섯 살 적에 나는'"
      ]
     },
     "execution_count": 25,
     "metadata": {},
     "output_type": "execute_result"
    }
   ],
   "source": [
    "littlePrince[:10]"
   ]
  },
  {
   "cell_type": "code",
   "execution_count": 26,
   "id": "afc85bfb",
   "metadata": {},
   "outputs": [
    {
     "data": {
      "text/plain": [
       "'여섯 살 적에 나는'"
      ]
     },
     "execution_count": 26,
     "metadata": {},
     "output_type": "execute_result"
    }
   ],
   "source": [
    "short = lambda x : x[:10]\n",
    "short(littlePrince)"
   ]
  },
  {
   "cell_type": "markdown",
   "id": "228ce6c5",
   "metadata": {},
   "source": [
    "### 환율 계산기"
   ]
  },
  {
   "cell_type": "code",
   "execution_count": 27,
   "id": "53f0990a",
   "metadata": {},
   "outputs": [
    {
     "data": {
      "text/plain": [
       "860.0"
      ]
     },
     "execution_count": 27,
     "metadata": {},
     "output_type": "execute_result"
    }
   ],
   "source": [
    "#1원 = 0.00086달러라고 가정\n",
    "\n",
    "exchange = lambda won : won * 0.00086\n",
    "exchange(1000000)"
   ]
  },
  {
   "cell_type": "code",
   "execution_count": 28,
   "id": "312e5b8c",
   "metadata": {},
   "outputs": [
    {
     "data": {
      "text/plain": [
       "430.0"
      ]
     },
     "execution_count": 28,
     "metadata": {},
     "output_type": "execute_result"
    }
   ],
   "source": [
    "exchange(500000)"
   ]
  },
  {
   "cell_type": "code",
   "execution_count": 30,
   "id": "283edbba",
   "metadata": {},
   "outputs": [
    {
     "data": {
      "text/plain": [
       "215.0"
      ]
     },
     "execution_count": 30,
     "metadata": {},
     "output_type": "execute_result"
    }
   ],
   "source": [
    "exchange(250000)"
   ]
  },
  {
   "cell_type": "code",
   "execution_count": 3,
   "id": "e8775fda",
   "metadata": {},
   "outputs": [],
   "source": [
    "def calculator(a, b):\n",
    "    return a + b, a - b, a * b, a / b"
   ]
  },
  {
   "cell_type": "code",
   "execution_count": 5,
   "id": "e934eba9",
   "metadata": {},
   "outputs": [
    {
     "data": {
      "text/plain": [
       "(15, 9, 36, 4.0)"
      ]
     },
     "execution_count": 5,
     "metadata": {},
     "output_type": "execute_result"
    }
   ],
   "source": [
    "calculator(12, 3)"
   ]
  },
  {
   "cell_type": "code",
   "execution_count": 7,
   "id": "ce394115",
   "metadata": {},
   "outputs": [
    {
     "data": {
      "text/plain": [
       "tuple"
      ]
     },
     "execution_count": 7,
     "metadata": {},
     "output_type": "execute_result"
    }
   ],
   "source": [
    "type(calculator(12, 3))"
   ]
  },
  {
   "cell_type": "code",
   "execution_count": 8,
   "id": "0c24ed0b",
   "metadata": {},
   "outputs": [
    {
     "ename": "TypeError",
     "evalue": "unsupported operand type(s) for +: 'int' and 'str'",
     "output_type": "error",
     "traceback": [
      "\u001b[1;31m---------------------------------------------------------------------------\u001b[0m",
      "\u001b[1;31mTypeError\u001b[0m                                 Traceback (most recent call last)",
      "\u001b[1;32m~\\AppData\\Local\\Temp/ipykernel_12108/1542419232.py\u001b[0m in \u001b[0;36m<module>\u001b[1;34m\u001b[0m\n\u001b[1;32m----> 1\u001b[1;33m \u001b[0mcalculator\u001b[0m\u001b[1;33m(\u001b[0m\u001b[1;36m12\u001b[0m\u001b[1;33m,\u001b[0m \u001b[1;34m'글자'\u001b[0m\u001b[1;33m)\u001b[0m\u001b[1;33m\u001b[0m\u001b[1;33m\u001b[0m\u001b[0m\n\u001b[0m",
      "\u001b[1;32m~\\AppData\\Local\\Temp/ipykernel_12108/2380503488.py\u001b[0m in \u001b[0;36mcalculator\u001b[1;34m(a, b)\u001b[0m\n\u001b[0;32m      1\u001b[0m \u001b[1;32mdef\u001b[0m \u001b[0mcalculator\u001b[0m\u001b[1;33m(\u001b[0m\u001b[0ma\u001b[0m\u001b[1;33m,\u001b[0m \u001b[0mb\u001b[0m\u001b[1;33m)\u001b[0m\u001b[1;33m:\u001b[0m\u001b[1;33m\u001b[0m\u001b[1;33m\u001b[0m\u001b[0m\n\u001b[1;32m----> 2\u001b[1;33m     \u001b[1;32mreturn\u001b[0m \u001b[0ma\u001b[0m \u001b[1;33m+\u001b[0m \u001b[0mb\u001b[0m\u001b[1;33m,\u001b[0m \u001b[0ma\u001b[0m \u001b[1;33m-\u001b[0m \u001b[0mb\u001b[0m\u001b[1;33m,\u001b[0m \u001b[0ma\u001b[0m \u001b[1;33m*\u001b[0m \u001b[0mb\u001b[0m\u001b[1;33m,\u001b[0m \u001b[0ma\u001b[0m \u001b[1;33m/\u001b[0m \u001b[0mb\u001b[0m\u001b[1;33m\u001b[0m\u001b[1;33m\u001b[0m\u001b[0m\n\u001b[0m",
      "\u001b[1;31mTypeError\u001b[0m: unsupported operand type(s) for +: 'int' and 'str'"
     ]
    }
   ],
   "source": [
    "calculator(12, '글자')"
   ]
  },
  {
   "cell_type": "markdown",
   "id": "dbe0397a",
   "metadata": {},
   "source": [
    "### input() 함수"
   ]
  },
  {
   "cell_type": "code",
   "execution_count": null,
   "id": "5e6b88cb",
   "metadata": {},
   "outputs": [],
   "source": []
  },
  {
   "cell_type": "markdown",
   "id": "dc10c986",
   "metadata": {},
   "source": [
    "### if-else문"
   ]
  },
  {
   "cell_type": "code",
   "execution_count": 9,
   "id": "ca27a7b2",
   "metadata": {},
   "outputs": [],
   "source": [
    "def seperate():\n",
    "    a = int(input(\"자연수 중 하나를 입력하세요: \"))\n",
    "    if a % 2 == 0:\n",
    "        print('짝수')\n",
    "    else:\n",
    "        print('홀수')"
   ]
  },
  {
   "cell_type": "markdown",
   "id": "9744be9a",
   "metadata": {},
   "source": [
    "### p. 64"
   ]
  },
  {
   "cell_type": "code",
   "execution_count": 10,
   "id": "c183c7f6",
   "metadata": {},
   "outputs": [
    {
     "name": "stdout",
     "output_type": "stream",
     "text": [
      "1 홀수\n",
      "2 짝수\n",
      "3 홀수\n",
      "4 짝수\n",
      "5 홀수\n",
      "6 짝수\n",
      "7 홀수\n",
      "8 짝수\n",
      "9 홀수\n"
     ]
    },
    {
     "name": "stderr",
     "output_type": "stream",
     "text": [
      "<>:2: SyntaxWarning: \"is not\" with a literal. Did you mean \"!=\"?\n",
      "<>:2: SyntaxWarning: \"is not\" with a literal. Did you mean \"!=\"?\n",
      "C:\\Users\\JAKE\\AppData\\Local\\Temp/ipykernel_12108/110872325.py:2: SyntaxWarning: \"is not\" with a literal. Did you mean \"!=\"?\n",
      "  if i % 2 is not 0:\n"
     ]
    }
   ],
   "source": [
    "for i in [1, 2, 3, 4, 5, 6, 7, 8, 9]:\n",
    "    if i % 2 is not 0:\n",
    "        print(i, '홀수')\n",
    "    else:\n",
    "        print(i, '짝수')"
   ]
  },
  {
   "cell_type": "markdown",
   "id": "f2a4dd6c",
   "metadata": {},
   "source": [
    "### p.65\n",
    "#### 서비스 가격 출력 프로그램"
   ]
  },
  {
   "cell_type": "code",
   "execution_count": 12,
   "id": "b76524a5",
   "metadata": {},
   "outputs": [],
   "source": [
    "price = [23, 40, 67]\n",
    "\n",
    "def service_price():\n",
    "    service = input('서비스 종류를 입력하세요, a/b/c: ')\n",
    "    valueAdded = input('부가세를 포함합니까? y/n: ')\n",
    "    if valueAdded == 'y':\n",
    "        if service == 'a':\n",
    "            result = 23 * 1.1\n",
    "        if service == 'b':\n",
    "            result = 40 * 1.1\n",
    "        if service == 'c':\n",
    "            result = 67 * 1.1\n",
    "    if valueAdded == 'n':\n",
    "        if service == 'a':\n",
    "            result = 23\n",
    "        if service == 'b':\n",
    "            result = 40\n",
    "        if service == 'c':\n",
    "            result = 67\n",
    "    print(round(result, 1), '만 원입니다')\n",
    "        "
   ]
  },
  {
   "cell_type": "code",
   "execution_count": 14,
   "id": "e8ea9143",
   "metadata": {},
   "outputs": [
    {
     "name": "stdout",
     "output_type": "stream",
     "text": [
      "서비스 종류를 입력하세요, a/b/c: b\n",
      "부가세를 포함합니까? y/n: y\n",
      "44.0 만 원입니다\n"
     ]
    }
   ],
   "source": [
    "service_price()"
   ]
  },
  {
   "cell_type": "code",
   "execution_count": 15,
   "id": "95973ad1",
   "metadata": {},
   "outputs": [
    {
     "name": "stdout",
     "output_type": "stream",
     "text": [
      "서비스 종류를 입력하세요, a/b/c: c\n",
      "부가세를 포함합니까? y/n: n\n",
      "67 만 원입니다\n"
     ]
    }
   ],
   "source": [
    "service_price()"
   ]
  },
  {
   "cell_type": "markdown",
   "id": "4a9172f2",
   "metadata": {},
   "source": [
    "### 파일 입출력 연습하기"
   ]
  },
  {
   "cell_type": "code",
   "execution_count": 16,
   "id": "aa02d686",
   "metadata": {},
   "outputs": [
    {
     "data": {
      "text/plain": [
       "'C:\\\\Users\\\\JAKE\\\\Desktop\\\\KDT 빅데이터 전문가 2기\\\\과제함\\\\파이썬 생활 프로그래밍'"
      ]
     },
     "execution_count": 16,
     "metadata": {},
     "output_type": "execute_result"
    }
   ],
   "source": [
    "import os\n",
    "os.getcwd()"
   ]
  },
  {
   "cell_type": "code",
   "execution_count": 17,
   "id": "fe742627",
   "metadata": {},
   "outputs": [],
   "source": [
    "os.chdir(r'c:\\doit\\life')"
   ]
  },
  {
   "cell_type": "code",
   "execution_count": 18,
   "id": "55419aa6",
   "metadata": {},
   "outputs": [
    {
     "data": {
      "text/plain": [
       "[]"
      ]
     },
     "execution_count": 18,
     "metadata": {},
     "output_type": "execute_result"
    }
   ],
   "source": [
    "#폴더 내 파일들을 리스트로 표현하여 보여줌.\n",
    "os.listdir()"
   ]
  },
  {
   "cell_type": "code",
   "execution_count": 19,
   "id": "3fe11fc5",
   "metadata": {},
   "outputs": [],
   "source": [
    "f = open('a.txt', 'w')"
   ]
  },
  {
   "cell_type": "code",
   "execution_count": 21,
   "id": "7431aa5f",
   "metadata": {},
   "outputs": [],
   "source": [
    "f.write('abc')\n",
    "f.close()"
   ]
  },
  {
   "cell_type": "code",
   "execution_count": 22,
   "id": "8d58ace4",
   "metadata": {},
   "outputs": [],
   "source": [
    "with open('b.txt', 'w') as f:\n",
    "    f.write('efg')"
   ]
  },
  {
   "cell_type": "code",
   "execution_count": 24,
   "id": "9ddffc29",
   "metadata": {},
   "outputs": [],
   "source": [
    "with open('b.txt', 'a') as f:\n",
    "    f.write('hij')"
   ]
  },
  {
   "cell_type": "code",
   "execution_count": 26,
   "id": "cbff5c72",
   "metadata": {},
   "outputs": [
    {
     "name": "stdout",
     "output_type": "stream",
     "text": [
      "efghij\n"
     ]
    }
   ],
   "source": [
    "with open('b.txt', 'r') as f:\n",
    "    b = f.read()\n",
    "print(b)"
   ]
  },
  {
   "cell_type": "markdown",
   "id": "4b003292",
   "metadata": {},
   "source": [
    "### 한글 파일 오류 해결하기"
   ]
  },
  {
   "cell_type": "code",
   "execution_count": 27,
   "id": "84522c41",
   "metadata": {},
   "outputs": [],
   "source": [
    "import os, re\n",
    "os.chdir(r'c:\\doit\\life')\n",
    "\n",
    "f = open('한글파일.txt', 'w')\n",
    "f.write('파이썬 생활 프로그래밍')\n",
    "f.close()"
   ]
  },
  {
   "cell_type": "code",
   "execution_count": 29,
   "id": "8dc9c804",
   "metadata": {
    "scrolled": true
   },
   "outputs": [],
   "source": [
    "#codecs 모듈을 임포트합니다.\n",
    "#import codecs \n",
    "\n",
    "#파일 형식을 'utf-8'로 지정해 파일을 엽니다.\n",
    "#f = codecs.open('한글파일.txt', 'r', 'utf-8')\n",
    "#f.read()[:10]"
   ]
  },
  {
   "cell_type": "markdown",
   "id": "e7f23c65",
   "metadata": {},
   "source": [
    "### 정규표현식으로 문자열 다루기"
   ]
  },
  {
   "cell_type": "code",
   "execution_count": 31,
   "id": "612c01c2",
   "metadata": {},
   "outputs": [
    {
     "data": {
      "text/plain": [
       "['(이동민, 2019)', '(최재영, 2019)', '(Lion, 2018)']"
      ]
     },
     "execution_count": 31,
     "metadata": {},
     "output_type": "execute_result"
    }
   ],
   "source": [
    "import re\n",
    "example = '이동민 교수님은 다음과 같이 설명했습니다(이동민, 2019). 그런데 다른 교수님은 이 문제에 대해서 다른 견해를 가지고 있었습니다(최재영, 2019). 또 다른 견해도 있었습니다(Lion, 2018)'\n",
    "result = re.findall(r'\\([A-Za-z가-힣]+, \\d+\\)', example)\n",
    "result"
   ]
  },
  {
   "cell_type": "code",
   "execution_count": 32,
   "id": "7abb7b86",
   "metadata": {},
   "outputs": [
    {
     "data": {
      "text/plain": [
       "0"
      ]
     },
     "execution_count": 32,
     "metadata": {},
     "output_type": "execute_result"
    }
   ],
   "source": [
    "pattern = r'life'\n",
    "script = 'life'\n",
    "re.match(pattern, script).start() #"
   ]
  },
  {
   "cell_type": "code",
   "execution_count": 33,
   "id": "c08f7339",
   "metadata": {},
   "outputs": [
    {
     "data": {
      "text/plain": [
       "4"
      ]
     },
     "execution_count": 33,
     "metadata": {},
     "output_type": "execute_result"
    }
   ],
   "source": [
    "re.match(pattern, script).end()"
   ]
  },
  {
   "cell_type": "code",
   "execution_count": 34,
   "id": "a111c4fe",
   "metadata": {},
   "outputs": [
    {
     "data": {
      "text/plain": [
       "(0, 4)"
      ]
     },
     "execution_count": 34,
     "metadata": {},
     "output_type": "execute_result"
    }
   ],
   "source": [
    "re.match(pattern, script).span() #life를 찾은 범위"
   ]
  },
  {
   "cell_type": "code",
   "execution_count": 35,
   "id": "a813e7a7",
   "metadata": {},
   "outputs": [
    {
     "data": {
      "text/plain": [
       "'life'"
      ]
     },
     "execution_count": 35,
     "metadata": {},
     "output_type": "execute_result"
    }
   ],
   "source": [
    "re.match(pattern, script).group()"
   ]
  },
  {
   "cell_type": "code",
   "execution_count": 36,
   "id": "2e345947",
   "metadata": {},
   "outputs": [
    {
     "name": "stdout",
     "output_type": "stream",
     "text": [
      "Match!\n"
     ]
    }
   ],
   "source": [
    "def refinder(pattern, script):\n",
    "    if re.match(pattern, script):\n",
    "        print('Match!')\n",
    "    else:\n",
    "        print('Not a match!')\n",
    "        \n",
    "refinder(pattern, script)"
   ]
  },
  {
   "cell_type": "code",
   "execution_count": 48,
   "id": "245cfe00",
   "metadata": {},
   "outputs": [
    {
     "name": "stdout",
     "output_type": "stream",
     "text": [
      "Match! Life\n"
     ]
    }
   ],
   "source": [
    "pattern = r'Life'\n",
    "script = 'Life is so cool'\n",
    "def refinder(pattern, script):\n",
    "    if re.match(pattern, script):\n",
    "        print('Match!', re.search(pattern, script).group())\n",
    "    else:\n",
    "        print('Not a match!')\n",
    "        \n",
    "refinder(pattern, script)"
   ]
  },
  {
   "cell_type": "code",
   "execution_count": 49,
   "id": "6198eed7",
   "metadata": {},
   "outputs": [
    {
     "name": "stdout",
     "output_type": "stream",
     "text": [
      "Match! is\n"
     ]
    }
   ],
   "source": [
    "pattern = r'is'\n",
    "script = 'Life is is so cool'\n",
    "def refinder(pattern, script):\n",
    "    if re.search(pattern, script):\n",
    "        print('Match!', re.search(pattern, script).group())\n",
    "    else:\n",
    "        print('Not a match!')\n",
    "        \n",
    "refinder(pattern, script)"
   ]
  },
  {
   "cell_type": "code",
   "execution_count": 50,
   "id": "63529df1",
   "metadata": {},
   "outputs": [
    {
     "data": {
      "text/plain": [
       "['511223', '521012']"
      ]
     },
     "execution_count": 50,
     "metadata": {},
     "output_type": "execute_result"
    }
   ],
   "source": [
    "number = 'My number is 511223-1****** and yours is 521012-2******'\n",
    "re.findall('\\d{6}', number)"
   ]
  },
  {
   "cell_type": "code",
   "execution_count": 51,
   "id": "94246fef",
   "metadata": {},
   "outputs": [
    {
     "data": {
      "text/plain": [
       "['511223', '1', '521012', '2']"
      ]
     },
     "execution_count": 51,
     "metadata": {},
     "output_type": "execute_result"
    }
   ],
   "source": [
    "number = 'My number is 511223-1****** and yours is 521012-2******'\n",
    "re.findall('\\d+', number)"
   ]
  },
  {
   "cell_type": "code",
   "execution_count": 53,
   "id": "9a47bd2c",
   "metadata": {},
   "outputs": [
    {
     "data": {
      "text/plain": [
       "['',\n",
       " '',\n",
       " '',\n",
       " '',\n",
       " '',\n",
       " '',\n",
       " '',\n",
       " '',\n",
       " '',\n",
       " '',\n",
       " '',\n",
       " '',\n",
       " '',\n",
       " '511223',\n",
       " '',\n",
       " '1',\n",
       " '',\n",
       " '',\n",
       " '',\n",
       " '',\n",
       " '',\n",
       " '',\n",
       " '',\n",
       " '',\n",
       " '',\n",
       " '',\n",
       " '',\n",
       " '',\n",
       " '',\n",
       " '',\n",
       " '',\n",
       " '',\n",
       " '',\n",
       " '',\n",
       " '',\n",
       " '',\n",
       " '521012',\n",
       " '',\n",
       " '2',\n",
       " '',\n",
       " '',\n",
       " '',\n",
       " '',\n",
       " '',\n",
       " '',\n",
       " '']"
      ]
     },
     "execution_count": 53,
     "metadata": {},
     "output_type": "execute_result"
    }
   ],
   "source": [
    "number = 'My number is 511223-1****** and yours is 521012-2******'\n",
    "re.findall('\\d*', number)"
   ]
  },
  {
   "cell_type": "code",
   "execution_count": 56,
   "id": "ea6c91b7",
   "metadata": {},
   "outputs": [
    {
     "data": {
      "text/plain": [
       "['91년에 태어났습니다. 97년에는 IMF가 있었습니다. 지금은 2020년']"
      ]
     },
     "execution_count": 56,
     "metadata": {},
     "output_type": "execute_result"
    }
   ],
   "source": [
    "example1 = '91년에 태어났습니다. 97년에는 IMF가 있었습니다. 지금은 2020년입니다.'\n",
    "re.findall(r'\\d.+년', example1)"
   ]
  },
  {
   "cell_type": "code",
   "execution_count": 57,
   "id": "6f0e54a3",
   "metadata": {},
   "outputs": [
    {
     "data": {
      "text/plain": [
       "['91년', '97년', '2020년']"
      ]
     },
     "execution_count": 57,
     "metadata": {},
     "output_type": "execute_result"
    }
   ],
   "source": [
    "example1 = '91년에 태어났습니다. 97년에는 IMF가 있었습니다. 지금은 2020년입니다.'\n",
    "re.findall(r'\\d+년', example1)"
   ]
  },
  {
   "cell_type": "code",
   "execution_count": 59,
   "id": "0bbaa3d3",
   "metadata": {
    "scrolled": true
   },
   "outputs": [
    {
     "data": {
      "text/plain": [
       "['91년에 태어났습니다. 97년에는 IMF가 있었습니다. 지금은 2020년입니다.']"
      ]
     },
     "execution_count": 59,
     "metadata": {},
     "output_type": "execute_result"
    }
   ],
   "source": [
    "example1 = '91년에 태어났습니다. 97년에는 IMF가 있었습니다. 지금은 2020년입니다.'\n",
    "re.findall(r'\\d.+년?', example1)"
   ]
  },
  {
   "cell_type": "code",
   "execution_count": 84,
   "id": "8a0fc307",
   "metadata": {},
   "outputs": [
    {
     "data": {
      "text/plain": [
       "['(이동민, 2019). 그런데 다른 교수님은 이 문제에 대해서 다른 견해를 가지고 있었습니다(최재영, 2019). 또 다른 견해도 있었습니다(Lion, 2018)']"
      ]
     },
     "execution_count": 84,
     "metadata": {},
     "output_type": "execute_result"
    }
   ],
   "source": [
    "example = '이동민 교수님은 다음과 같이 설명했습니다(이동민, 2019). 그런데 다른 교수님은 이 문제에 대해서 다른 견해를 가지고 있었습니다(최재영, 2019). 또 다른 견해도 있었습니다(Lion, 2018)'\n",
    "result = re.findall(r'\\(.+\\)', example)\n",
    "result"
   ]
  },
  {
   "cell_type": "code",
   "execution_count": 72,
   "id": "010a6c9f",
   "metadata": {},
   "outputs": [
    {
     "data": {
      "text/plain": [
       "['I have a lovely dog, really',\n",
       " ' I am not telling a lie',\n",
       " ' What a pretty dog',\n",
       " ' I love this dog',\n",
       " '']"
      ]
     },
     "execution_count": 72,
     "metadata": {},
     "output_type": "execute_result"
    }
   ],
   "source": [
    "sentence = 'I have a lovely dog, really. I am not telling a lie. What a pretty dog! I love this dog.'\n",
    "re.split(r'[.?!]', sentence)"
   ]
  },
  {
   "cell_type": "code",
   "execution_count": 77,
   "id": "edca6035",
   "metadata": {},
   "outputs": [
    {
     "name": "stdout",
     "output_type": "stream",
     "text": [
      "['a', '3']\n",
      "['b', '4']\n",
      "['c', '5']\n"
     ]
    }
   ],
   "source": [
    "data = 'a:3;b:4;c:5'\n",
    "for i in re.split(r';', data):\n",
    "    print(re.split(r':', i))"
   ]
  },
  {
   "cell_type": "code",
   "execution_count": 85,
   "id": "b385d40c",
   "metadata": {},
   "outputs": [
    {
     "data": {
      "text/plain": [
       "'I have a lovely cat, really. I am not telling a lie. What a pretty cat! I love this cat.'"
      ]
     },
     "execution_count": 85,
     "metadata": {},
     "output_type": "execute_result"
    }
   ],
   "source": [
    "sentence = 'I have a lovely dog, really. I am not telling a lie. What a pretty dog! I love this dog.'\n",
    "re.sub(r'dog', r'cat', sentence)"
   ]
  },
  {
   "cell_type": "code",
   "execution_count": 88,
   "id": "9f9de962",
   "metadata": {},
   "outputs": [
    {
     "name": "stdout",
     "output_type": "stream",
     "text": [
      "I am home now. \n",
      "\n",
      "\n",
      "I am with my cat.\n",
      "\n",
      "\n"
     ]
    }
   ],
   "source": [
    "words = 'I am home now. \\n\\n\\nI am with my cat.\\n\\n'\n",
    "print(words)"
   ]
  },
  {
   "cell_type": "code",
   "execution_count": 89,
   "id": "0c3dfc2c",
   "metadata": {},
   "outputs": [
    {
     "data": {
      "text/plain": [
       "'I am home now. I am with my cat.'"
      ]
     },
     "execution_count": 89,
     "metadata": {},
     "output_type": "execute_result"
    }
   ],
   "source": [
    "re.sub(r'\\n', '', words)"
   ]
  },
  {
   "cell_type": "code",
   "execution_count": 90,
   "id": "6c460f00",
   "metadata": {
    "scrolled": true
   },
   "outputs": [
    {
     "name": "stdout",
     "output_type": "stream",
     "text": [
      "I am home now. I am with my cat.\n"
     ]
    }
   ],
   "source": [
    "words = 'I am home now. \\n\\n\\nI am with my cat.\\n\\n'\n",
    "words = words.replace('\\n', '')\n",
    "print(words)"
   ]
  },
  {
   "cell_type": "code",
   "execution_count": 91,
   "id": "8c25ecae",
   "metadata": {},
   "outputs": [
    {
     "data": {
      "text/plain": [
       "['lovely', 'really']"
      ]
     },
     "execution_count": 91,
     "metadata": {},
     "output_type": "execute_result"
    }
   ],
   "source": [
    "sentence = 'I have a lovely dog, really. I am not telling a lie'\n",
    "re.findall(r'\\w+ly', sentence)"
   ]
  },
  {
   "cell_type": "markdown",
   "id": "c42652a7",
   "metadata": {},
   "source": [
    "### 드라마 대본 텍스트 파일 가공하기"
   ]
  },
  {
   "cell_type": "code",
   "execution_count": 92,
   "id": "dd8d5bf6",
   "metadata": {},
   "outputs": [],
   "source": [
    "import os, re\n",
    "os.chdir(r'c:\\doit\\life')"
   ]
  },
  {
   "cell_type": "code",
   "execution_count": 95,
   "id": "646110aa",
   "metadata": {},
   "outputs": [
    {
     "data": {
      "text/plain": [
       "'The One Where Monica Gets a New Roommate (The Pilot-The Uncut Version)\\nWritten by: Marta Kauffman & David Crane\\nTranscribed by: guineapig\\nAdditional transcribing by: Eric Aasen\\n(Note: The previously unseen parts of this episode are shown in blue text.)\\n\\n[Scene: Central Perk, Chandler, Joey, Phoebe, and Monica are there.]\\n\\nMonica: There\\'s nothing to tell! He\\'s just some guy I work with!\\n\\nJoey: C\\'mon, you\\'re going out with the guy! There\\'s gotta be something wrong with him!\\n\\nChandler: All right Joey, be nice.  So does he have a hump? A hump and a hairpiece?\\n\\nPhoebe: Wait, does he eat chalk?\\n\\n(They all stare, bemused.)\\n\\nPhoebe: Just, \\'cause, I don\\'t want her to go through what I went through with Carl- oh!\\n\\nMonica: Okay, everybody relax. This is not even a date. It\\'s just two people going out to dinner and- not having sex.\\n\\nChandler: Sounds like a date to me.\\n\\n[Time Lapse]\\n\\nChandler: Alright, so I\\'m back in high school, I\\'m standing in the middle of the cafeteria, and I realize I am totally naked.\\n\\nAll: Oh, yeah. Had that dream.\\n\\nChandler: Then I look down, and I realize there\\'s a phone... there.\\n\\nJoey: Instead of...?\\n\\nChandler: That\\'s right.\\n\\nJoey: Never had that dream.\\n\\nPhoebe: No.\\n\\nChandler: All of a sudden, the phone starts to ring. Now I don\\'t know what to do, everybody starts looking at me.\\n\\nMonica: And they weren\\'t looking at you before?!\\n\\nChandler: Finally, I figure I\\'d better answer it, and it turns out it\\'s my mother, which is very-very weird, because- she never calls me!\\n\\n[Time Lapse, Ross has entered.]\\n\\nRoss: (mortified) Hi.\\n\\nJoey: This guy says hello, I wanna kill myself.\\n\\nMonica: Are you okay, sweetie?\\n\\nRoss: I just feel like someone reached down my throat, grabbed my small intestine, pulled it out of my mouth and tied it around my neck...\\n\\nChandler: Cookie?\\n\\nMonica: (explaining to the others) Carol moved her stuff out today.\\n\\nJoey: Ohh.\\n\\nMonica: (to Ross) Let me get you some coffee.\\n\\nRoss: Thanks.\\n\\nPhoebe: Ooh! Oh! (She starts to pluck at the air just in front of Ross.)\\n\\nRoss: No, no don\\'t! Stop cleansing my aura! No, just leave my aura alone, okay?\\n\\nPhoebe: Fine!  Be murky!\\n\\nRoss: I\\'ll be fine, alright? Really, everyone. I hope she\\'ll be very happy.\\n\\nMonica: No you don\\'t.\\n\\nRoss: No I don\\'t, to hell with her, she left me!\\n\\nJoey: And you never knew she was a lesbian...\\n\\nRoss: No!! Okay?! Why does everyone keep fixating on that? She didn\\'t know, how should I know?\\n\\nChandler: Sometimes I wish I was a lesbian... (They all stare at him.) Did I say that out loud?\\n\\nRoss: I told mom and dad last night, they seemed to take it pretty well.\\n\\nMonica: Oh really, so that hysterical phone call I got from a woman at sobbing 3:00 A.M., \"I\\'ll never have grandchildren, I\\'ll never have grandchildren.\" was what?  A wrong number?\\n\\nRoss: Sorry.\\n\\nJoey: Alright Ross, look. You\\'re feeling a lot of pain right now. You\\'re angry. You\\'re hurting. Can I tell you what the answer is?\\n\\n(Ross gestures his consent.)\\n\\nJoey: Strip joint! C\\'mon, you\\'re single! Have some hormones!\\n\\nRoss: I don\\'t want to be single, okay? I just... I just- I just wanna be married again!\\n\\n(Rachel enters in a wet wedding dress and starts to search the room.)\\n\\nChandler: And I just want a million dollars! (He extends his hand hopefully.)\\n\\nMonica: Rachel?!\\n\\nRachel: Oh God Monica hi! Thank God! I just went to your building and you weren\\'t there and then this guy with a big hammer said you might be here and you are, you are!\\n\\nWaitress: Can I get you some coffee?\\n\\nMonica: (pointing at Rachel) De-caff. (to All) Okay, everybody, this is Rachel, another Lincoln High survivor. (to Rachel) This is everybody, this is Chandler, and Phoebe, and Joey, and- you remember my brother Ross?\\n\\nRachel: Hi, sure!\\n\\nRoss: Hi.\\n\\n(They go to hug but Ross\\'s umbrella opens.  He sits back down defeated again.  A moment of silence follows as Rachel sits and the others expect her to explain.)\\n\\nMonica: So you wanna tell us now, or are we waiting for four wet bridesmaids?\\n\\nRachel: Oh God... well, it started about a half hour before the wedding. I was in the room where we were keeping all the presents, and I was looking at this gravy boat. This really gorgeous Lamauge gravy boat. When all of a sudden- (to the waitress that brought her coffee)Sweet \\'n\\' Lo?- I realized that I was more turned on by this gravy boat than by Barry! And then I got really freaked out, and that\\'s when it hit me: how much Barry looks like Mr. Potato Head. Y\\'know, I mean, I always knew looked familiar, but... Anyway, I just had to get out of there, and I started wondering \\'Why am I doing this, and who am I doing this for?\\'. (to Monica) So anyway I just didn\\'t know where to go, and I know that you and I have kinda drifted apart, but you\\'re the only person I knew who lived here in the city.\\n\\nMonica: Who wasn\\'t invited to the wedding.\\n\\nRachel: Ooh, I was kinda hoping that wouldn\\'t be an issue... [Scene: Monica\\'s Apartment, everyone is there and watching a Spanish Soap on TV and are trying to figure out what is going on.]\\n\\nMonica: Now I\\'m guessing that he bought her the big pipe organ, and she\\'s really not happy about it.\\n\\nChandler: (imitating the characters) Tuna or egg salad?  Decide!\\n\\nRoss: (in a deep voice) I\\'ll have whatever Christine is having.\\n\\nRachel: (on phone) Daddy, I just... I can\\'t marry him! I\\'m sorry. I just don\\'t love him. Well, it matters to me!\\n\\n(The scene on TV has changed to show two women, one is holding her hair.)\\n\\nPhoebe:  If I let go of my hair, my head will fall off.\\n\\nChandler: (re TV) Ooh, she should not be wearing those pants.\\n\\nJoey: I say push her down the stairs.\\n\\nPhoebe, Ross, Chandler, and Joey:  Push her down the stairs! Push her down the stairs! Push her down the stairs!\\n\\n(She is pushed down the stairs and everyone cheers.)\\n\\nRachel: C\\'mon Daddy, listen to me! It\\'s like, it\\'s like, all of my life, everyone has always told me, \\'You\\'re a shoe! You\\'re a shoe, you\\'re a shoe, you\\'re a shoe!\\'. And today I just stopped and I said, \\'What if I don\\'t wanna be a shoe? What if I wanna be a- a purse, y\\'know? Or a- or a hat! No, I\\'m not saying I want you to buy me a hat, I\\'m saying I am a ha- It\\'s a metaphor, Daddy!\\n\\nRoss: You can see where he\\'d have trouble.\\n\\nRachel: Look Daddy, it\\'s my life. Well maybe I\\'ll just stay here with Monica.\\n\\nMonica: Well, I guess we\\'ve established who\\'s staying here with Monica...\\n\\nRachel: Well, maybe that\\'s my decision. Well, maybe I don\\'t need your money. Wait!! Wait, I said maybe!!\\n\\n[Time Lapse, Rachel is breating into a paper bag.]\\n\\nMonica: Just breathe, breathe.. that\\'s it. Just try to think of nice calm things...\\n\\nPhoebe: (sings) Raindrops on roses and rabbits and kittens, (Rachel and Monica turn to look at her.) bluebells and sleighbells and- something with mittens... La la la la...something and noodles with string.  These are a few...\\n\\nRachel: I\\'m all better now.\\n\\nPhoebe: (grins and walks to the kitchen and says to Chandler and Joey.) I helped!\\n\\nMonica: Okay, look, this is probably for the best, y\\'know? Independence. Taking control of your life.  The whole, \\'hat\\' thing.\\n\\nJoey: (comforting her) And hey, you need anything, you can always come to Joey. Me and Chandler live across the hall. And he\\'s away a lot.\\n\\nMonica: Joey, stop hitting on her! It\\'s her wedding day!\\n\\nJoey: What, like there\\'s a rule or something?\\n\\n(The door buzzer sounds and Chandler gets it.)\\n\\nChandler: Please don\\'t do that again, it\\'s a horrible sound.\\n\\nPaul: (over the intercom) It\\'s, uh, it\\'s Paul.\\n\\nMonica: Oh God, is it 6:30?  Buzz him in!\\n\\nJoey: Who\\'s Paul?\\n\\nRoss: Paul the Wine Guy, Paul?\\n\\nMonica: Maybe. Joey: Wait. Your \\'not a real date\\' tonight is with Paul the Wine Guy?\\n\\nRoss: He finally asked you out?\\n\\nMonica: Yes!\\n\\nChandler: Ooh, this is a Dear Diary moment.\\n\\nMonica: Rach, wait, I can cancel...\\n\\nRachel: Please, no, go, that\\'d be fine!\\n\\nMonica: (to Ross) Are, are you okay? I mean, do you want me to stay?\\n\\nRoss: (choked voice) That\\'d be good...\\n\\nMonica: (horrified) Really?\\n\\nRoss: (normal voice) No, go on! It\\'s Paul the Wine Guy!\\n\\nPhoebe: What does that mean?   Does he sell it, drink it, or just complain a lot? (Chandler doesn\\'t know.)\\n\\n(There\\'s a knock on the door and it\\'s Paul.)\\n\\nMonica: Hi, come in! Paul, this is.. (They are all lined up next to the door.)... everybody, everybody, this is Paul.\\n\\nAll: Hey! Paul! Hi! The Wine Guy! Hey!\\n\\nChandler: I\\'m sorry, I didn\\'t catch your name. Paul, was it?\\n\\nMonica: Okay, umm-umm, I\\'ll just--I\\'ll be right back, I just gotta go ah, go ah...\\n\\nRoss: A wandering?\\n\\nMonica: Change!  Okay, sit down. (Shows Paul in) Two seconds.\\n\\nPhoebe: Ooh, I just pulled out four eyelashes. That can\\'t be good.\\n\\n(Monica goes to change.)\\n\\nJoey:  Hey, Paul!\\n\\nPaul: Yeah?\\n\\nJoey: Here\\'s a little tip, she really likes it when you rub her neck in the same spot over and over and over again until it starts to get a little red.\\n\\nMonica: (yelling from the bedroom) Shut up, Joey!\\n\\nRoss: So Rachel, what\\'re you, uh... what\\'re you up to tonight?\\n\\nRachel: Well, I was kinda supposed to be headed for Aruba on my honeymoon, so nothing!\\n\\nRoss: Right, you\\'re not even getting your honeymoon, God.. No, no, although, Aruba, this time of year... talk about your- (thinks) -big lizards... Anyway, if you don\\'t feel like being alone tonight, Joey and Chandler are coming over to help me put together my new furniture.\\n\\nChandler: (deadpan) Yes, and we\\'re very excited about it.\\n\\nRachel: Well actually thanks, but I think I\\'m just gonna hang out here tonight.  It\\'s been kinda a long day.\\n\\nRoss: Okay, sure.\\n\\nJoey: Hey Pheebs, you wanna help?\\n\\nPhoebe: Oh, I wish I could, but I don\\'t want to.\\n\\nCommercial Break\\n\\n[Scene: The Subway, Phoebe is singing for change.]\\n\\nPhoebe: (singing) Love is sweet as summer showers, love is a wondrous work of art, but your love oh your love, your love...is like a giant pigeon...crapping on my heart.  La-la-la-la-la- (some guy gives her some change and to that guy) Thank you. (sings) La-la-la-la...ohhh!\\n\\n[Scene: Ross\\'s Apartment, the guys are there assembling furniture.]\\n\\nRoss: (squatting and reading the instructions) I\\'m supposed to attach a brackety thing to the side things, using a bunch of these little worm guys. I have no brackety thing, I see no whim guys whatsoever and- I cannot feel my legs.\\n\\n(Joey and Chandler are finishing assembling the bookcase.)\\n\\nJoey: I\\'m thinking we\\'ve got a bookcase here.\\n\\nChandler: It\\'s a beautiful thing.\\n\\nJoey: (picking up a leftover part) What\\'s this?\\n\\nChandler: I would have to say that is an \\'L\\'-shaped bracket.\\n\\nJoey: Which goes where?\\n\\nChandler: I have no idea.\\n\\n(Joey checks that Ross is not looking and dumps it in a plant.)\\n\\nJoey: Done with the bookcase!\\n\\nChandler: All finished!\\n\\nRoss: (clutching a beer can and sniffing) This was Carol\\'s favorite beer. She always drank it out of the can, I should have known.\\n\\nJoey: Hey-hey-hey-hey, if you\\'re gonna start with that stuff we\\'re outta here.\\n\\nChandler: Yes, please don\\'t spoil all this fun.\\n\\nJoey: Ross, let me ask you a question. She got the furniture, the stereo, the good TV- what did you get?\\n\\nRoss: You guys.\\n\\nChandler: Oh, God.\\n\\nJoey: You got screwed.\\n\\nChandler: Oh my God!\\n\\n[Scene: A Restaurant, Monica and Paul are eating.]\\n\\nMonica: Oh my God!\\n\\nPaul: I know, I know, I\\'m such an idiot. I guess I should have caught on when she started going to the dentist four and five times a week. I mean, how clean can teeth get?\\n\\nMonica: My brother\\'s going through that right now, he\\'s such a mess. How did you get through it?\\n\\nPaul: Well, you might try accidentally breaking something valuable of hers, say her-\\n\\nMonica: -leg?\\n\\nPaul: (laughing) That\\'s one way! Me, I- I went for the watch.\\n\\nMonica: You actually broke her watch?  Wow!  The worst thing I ever did was, I-I shredded by boyfriend\\'s favorite bath towel.\\n\\nPaul: Ooh, steer clear of you.\\n\\nMonica: That\\'s right. [Scene: Monica\\'s Apartment, Rachel is talking on the phone and pacing.]\\n\\nRachel: Barry, I\\'m sorry... I am so sorry... I know you probably think that this is all about what I said the other day about you making love with your socks on, but it isn\\'t... it isn\\'t, it\\'s about me, and I ju- (She stops talking and dials the phone.) Hi, machine cut me off again... anyway...look, look, I know that some girl is going to be incredibly lucky to become Mrs. Barry Finkel, but it isn\\'t me, it\\'s not me.  And not that I have any idea who me is right now, but you just have to give me a chance too... (The maching cuts her off again and she redials.)\\n\\n[Scene: Ross\\'s Apartment; Ross is pacing while Joey and Chandler are working on some more furniture.]\\n\\nRoss: I\\'m divorced!  I\\'m only 26 and I\\'m divorced!\\n\\nJoey: Shut up!\\n\\nChandler: You must stop! (Chandler hits what he is working on with a hammer and it collapses.)\\n\\nRoss: That only took me an hour.\\n\\nChandler: Look, Ross, you gotta understand, between us we haven\\'t had a relationship that has lasted longer than a Mento.   You, however have had the love of a woman for four years.   Four years of closeness and sharing at the end of which she ripped your heart out, and that is why we don\\'t do it!  I don\\'t think that was my point!\\n\\nRoss: You know what the scariest part is? What if there\\'s only one woman for everybody, y\\'know? I mean what if you get one woman- and that\\'s it? Unfortunately in my case, there was only one woman- for her...\\n\\nJoey: What are you talking about? \\'One woman\\'? That\\'s like saying there\\'s only one flavor of ice cream for you. Lemme tell you something, Ross. There\\'s lots of flavors out there. There\\'s Rocky Road, and Cookie Dough, and Bing! Cherry Vanilla. You could get \\'em with Jimmies, or nuts, or whipped cream! This is the best thing that ever happened to you! You got married, you were, like, what, eight? Welcome back to the world! Grab a spoon!\\n\\nRoss: I honestly don\\'t know if I\\'m hungry or horny.\\n\\nChandler: Stay out of my freezer! [Scene: A Restaurant, Monica and Paul are still eating.]\\n\\nPaul: Ever since she walked out on me, I, uh...\\n\\nMonica: What?..... What, you wanna spell it out with noodles?\\n\\nPaul: No, it\\'s, it\\'s more of a fifth date kinda revelation.\\n\\nMonica: Oh, so there is gonna be a fifth date?\\n\\nPaul: Isn\\'t there?\\n\\nMonica: Yeah... yeah, I think there is. -What were you gonna say?\\n\\nPaul: Well, ever-ev-... ever since she left me, um, I haven\\'t been able to, uh, perform. (Monica takes a sip of her drink.) ...Sexually.\\n\\nMonica: (spitting out her drink in shock) Oh God, oh God, I am sorry... I am so sorry...\\n\\nPaul: It\\'s okay...\\n\\nMonica: I know being spit on is probably not what you need right now. Um... how long?\\n\\nPaul: Two years.\\n\\nMonica: Wow! I\\'m-I\\'m-I\\'m glad you smashed her watch!\\n\\nPaul: So you still think you, um... might want that fifth date?\\n\\nMonica: (pause)...Yeah. Yeah, I do.\\n\\n[Scene: Monica\\'s Apartment, Rachel is watching Joanne Loves Chaci.]\\n\\nPriest on TV: We are gathered here today to join Joanne Louise Cunningham and Charles, Chachi-Chachi-Chachi, Arcola in the bound of holy matrimony.\\n\\nRachel: Oh...see... but Joanne loved Chachi! That\\'s the difference!\\n\\n[Scene: Ross\\'s Apartment, they\\'re all sitting around and talking.]\\n\\nRoss: (scornful) Grab a spoon. Do you know how long it\\'s been since I\\'ve grabbed a spoon? Do the words \\'Billy, don\\'t be a hero\\' mean anything to you?\\n\\nJoey: Great story!  But, I uh, I gotta go, I got a date with Andrea--Angela--Andrea...  Oh man, (looks to Chandler)\\n\\nChandler: Angela\\'s the screamer, Andrea has cats.\\n\\nJoey: Right.  Thanks.  It\\'s June.  I\\'m outta here. (Exits.)\\n\\nRoss: Y\\'know, here\\'s the thing. Even if I could get it together enough to- to ask a woman out,... who am I gonna ask? (He gazes out of the window.)\\n\\n[Cut to Rachel staring out of her window.]\\n\\nCommercial Break\\n\\n[Scene: Monica\\'s Apartment, Rachel is making coffee for Joey and Chandler.]\\n\\nRachel: Isn\\'t this amazing? I mean, I have never made coffee before in my entire life.\\n\\nChandler: That is amazing.\\n\\nJoey: Congratulations.\\n\\nRachel: Y\\'know, I figure if I can make coffee, there isn\\'t anything I can\\'t do.\\n\\nChandler: If can invade Poland, there isn\\'t anything I can\\'t do.\\n\\nJoey: Listen, while you\\'re on a roll, if you feel like you gotta make like a Western omelet or something... (Joey and Chandler taste the coffee, grimace, and pour it into a plant pot.) Although actually I\\'m really not that hungry...\\n\\nMonica: (entering, to herself) Oh good, Lenny and Squigy are here.\\n\\nAll: Morning. Good morning.\\n\\nPaul: (entering from Monica\\'s room) Morning.\\n\\nJoey: Morning, Paul.\\n\\nRachel: Hello, Paul.\\n\\nChandler: Hi, Paul, is it?\\n\\n(Monica and Paul walk to the door and talk in a low voice so the others can\\'t hear.  The others move Monica\\'s table closer to the door so that they can.)\\n\\nPaul: Thank you!  Thank you so much!\\n\\nMonica: Stop!\\n\\nPaul: No, I\\'m telling you last night was like umm, all my birthdays, both graduations, plus the barn raising scene in Witness.\\n\\nMonica: We\\'ll talk later.\\n\\nPaul: Yeah. (They kiss) Thank you. (Exits)\\n\\nJoey: That wasn\\'t a real date?! What the hell do you do on a real date?\\n\\nMonica: Shut up, and put my table back.\\n\\nAll: Okayyy! (They do so.)\\n\\nChandler: All right, kids, I gotta get to work. If I don\\'t input those numbers,... it doesn\\'t make much of a difference...\\n\\nRachel: So, like, you guys all have jobs?\\n\\nMonica: Yeah, we all have jobs. See, that\\'s how we buy stuff.\\n\\nJoey: Yeah, I\\'m an actor.\\n\\nRachel: Wow! Would I have seen you in anything?\\n\\nJoey: I doubt it. Mostly regional work.\\n\\nMonica: Oh wait, wait, unless you happened to catch the Reruns\\' production of Pinocchio, at the little theater in the park.\\n\\nJoey: Look, it was a job all right?\\n\\nChandler: \\'Look, Gippetto, I\\'m a real live boy.\\'\\n\\nJoey: I will not take this abuse. (Walks to the door and opens it to leave.)\\n\\nChandler: You\\'re right, I\\'m sorry. (Burst into song and dances out of the door.) \"Once I was a wooden boy, a little wooden boy...\"\\n\\nJoey: You should both know, that he\\'s a dead man.  Oh, Chandler? (Starts after Chandler.)\\n\\nMonica: So how you doing today? Did you sleep okay? Talk to Barry? I can\\'t stop smiling.\\n\\nRachel: I can see that. You look like you slept with a hanger in your mouth.\\n\\nMonica: I know, he\\'s just so, so... Do you remember you and Tony DeMarco?\\n\\nRachel: Oh, yeah.\\n\\nMonica: Well, it\\'s like that. With feelings.\\n\\nRachel: Oh wow. Are you in trouble.\\n\\nMonica: Big time!\\n\\nRachel: Want a wedding dress?   Hardly used.\\n\\nMonica: I think we are getting a little ahead of selves here. Okay. Okay. I am just going to get up, go to work and not think about him all day. Or else I\\'m just gonna get up and go to work.\\n\\nRachel: Oh, look, wish me luck!\\n\\nMonica: What for?\\n\\nRachel: I\\'m gonna go get one of those (Thinks) job things.\\n\\n(Monica exits.)\\n\\n[Scene: Iridium, Monica is working as Frannie enters.]\\n\\nFrannie: Hey, Monica!\\n\\nMonica: Hey Frannie, welcome back! How was Florida?\\n\\nFrannie: You had sex, didn\\'t you?\\n\\nMonica: How do you do that?\\n\\nFrannie: Oh, I hate you, I\\'m pushing my Aunt Roz through Parrot Jungle and you\\'re having sex!  So? Who?\\n\\nMonica: You know Paul?\\n\\nFrannie: Paul the Wine Guy? Oh yeah, I know Paul.\\n\\nMonica: You mean you know Paul like I know Paul?\\n\\nFrannie: Are you kidding? I take credit for Paul. Y\\'know before me, there was no snap in his turtle for two years.\\n\\n[Scene: Central Perk, everyone but Rachel is there.]\\n\\nJoey: (sitting on the arm of the couch)Of course it was a line!\\n\\nMonica: Why?! Why? Why, why would anybody do something like that?\\n\\nRoss: I assume we\\'re looking for an answer more sophisticated than \\'to get you into bed\\'.\\n\\nMonica: I hate men!  I hate men!\\n\\nPhoebe: Oh no, don\\'t hate, you don\\'t want to put that out into the universe.\\n\\nMonica: Is it me? Is it like I have some sort of beacon that only dogs and men with severe emotional problems can hear?\\n\\nPhoebe: All right, c\\'mere, gimme your feet. (She starts massaging them.)\\n\\nMonica: I just thought he was nice, y\\'know?\\n\\nJoey: (bursts out laughing again) I can\\'t believe you didn\\'t know it was a line!\\n\\n(Monica pushes him off of the sofa as Rachel enters with a shopping bag.)\\n\\nRachel: Guess what?\\n\\nRoss: You got a job?\\n\\nRachel: Are you kidding? I\\'m trained for nothing! I was laughed out of twelve interviews today.\\n\\nChandler: And yet you\\'re surprisingly upbeat.\\n\\nRachel: You would be too if you found John and David boots on sale, fifty percent off!\\n\\nChandler: Oh, how well you know me...\\n\\nRachel: They\\'re my new \\'I don\\'t need a job, I don\\'t need my parents, I\\'ve got great boots\\' boots!\\n\\nMonica: How\\'d you pay for them?\\n\\nRachel: Uh, credit card.\\n\\nMonica: And who pays for that?\\n\\nRachel: Um... my... father.\\n\\n[Scene: Monica and Rachel\\'s, everyone is sitting around the kitchen table.   Rachel\\'s credit cards are spread out on the table along with a pair of scissors.]\\n\\nRachel: Oh God, come on you guys, is this really necessary?  I mean, I can stop charging anytime I want.\\n\\nMonica: C\\'mon, you can\\'t live off your parents your whole life.\\n\\nRachel: I know that. That\\'s why I was getting married.\\n\\nPhoebe: Give her a break, it\\'s hard being on your own for the first time.\\n\\nRachel: Thank you.\\n\\nPhoebe: You\\'re welcome. I remember when I first came to this city. I was fourteen. My mom had just killed herself and my step-dad was back in prison, and I got here, and I didn\\'t know anybody. And I ended up living with this albino guy who was, like, cleaning windshields outside port authority, and then he killed himself, and then I found aromatherapy. So believe me, I know exactly how you feel.\\n\\n(Pause)\\n\\nRoss: The word you\\'re looking for is \\'Anyway\\'...\\n\\nMonica: All right, you ready?\\n\\nRachel: No.  No, no, I\\'m not ready!  How can I be ready?  \"Hey, Rach!  You ready to jump out the airplane without your parachute?\"  Come on, I can\\'t do this!\\n\\nMonica: You can, I know you can!\\n\\nRachel: I don\\'t think so.\\n\\nRoss: Come on, you made coffee!   You can do anything! (Chandler slowly tries to hide the now dead plant from that morning when he and Joey poured their coffee into it.)\\n\\nRoss: C\\'mon, cut. Cut, cut, cut,...\\n\\nAll: Cut, cut, cut, cut, cut, cut, cut... (She cuts one of them and they cheer.)\\n\\nRachel: Y\\'know what?  I think we can just leave it at that.  It\\'s kinda like a symbolic gesture...\\n\\nMonica:  Rachel!  That was a library card!\\n\\nAll: Cut, cut, cut, cut, cut, cut, cut..\\n\\nChandler: (as Rachel is cutting up her cards) Y\\'know, if you listen closely, you can hear a thousand retailers scream.\\n\\n(She finishes cutting them up and they all cheer.)\\n\\nMonica: Welcome to the real world! It sucks. You\\'re gonna love it!\\n\\n[Time Lapse, Rachel and Ross are watching a TV channel finishes it\\'s broadcast day by playing the national anthem.]\\n\\nMonica: Well, that\\'s it (To Ross) You gonna crash on the couch?\\n\\nRoss: No. No, I gotta go home sometime.\\n\\nMonica: You be okay?\\n\\nRoss: Yeah.\\n\\nRachel: Hey Mon, look what I just found on the floor. (Monica smiles.) What?\\n\\nMonica: That\\'s Paul\\'s watch. You just put it back where you found it. Oh boy. Alright. Goodnight, everybody.\\n\\nRoss and Rachel: Goodnight.\\n\\n(Monica stomps on Paul\\'s watch and goes into her room.)\\n\\nRoss: Mmm. (They both reach for the last cookie) Oh, no-\\n\\nRachel: Sorry-\\n\\nRoss: No no no, go-\\n\\nRachel: No, you have it, really, I don\\'t want it-\\n\\nRoss: Split it?\\n\\nRachel: Okay.\\n\\nRoss: Okay. (They split it.) You know you probably didn\\'t know this, but back in high school, I had a, um, major crush on you.\\n\\nRachel: I knew.\\n\\nRoss: You did! Oh.... I always figured you just thought I was Monica\\'s geeky older brother.\\n\\nRachel: I did.\\n\\nRoss: Oh. Listen, do you think- and try not to let my intense vulnerability become any kind of a factor here- but do you think it would be okay if I asked you out? Sometime? Maybe?\\n\\nRachel: Yeah, maybe...\\n\\nRoss: Okay... okay, maybe I will...\\n\\nRachel: Goodnight.\\n\\nRoss: Goodnight.\\n\\n(Rachel goes into her room and Monica enters the living room as Ross is leaving.)\\n\\nMonica: See ya.... Waitwait, what\\'s with you?\\n\\nRoss: I just grabbed a spoon. (Ross exits and Monica has no idea what that means.)\\n\\nClosing Credits\\n\\n[Scene: Central Perk, everyone is there.]\\n\\nJoey: I can\\'t believe what I\\'m hearing here.\\n\\nPhoebe: (sings) I can\\'t believe what I\\'m hearing here...\\n\\nMonica: What? I-I said you had a-\\n\\nPhoebe: (sings) What I said you had...\\n\\nMonica: (to Phoebe) Would you stop?\\n\\nPhoebe: Oh, was I doing it again?\\n\\nAll: Yes!\\n\\nMonica: I said that you had a nice butt, it\\'s just not a great butt.\\n\\nJoey: Oh, you wouldn\\'t know a great butt if it came up and bit ya.\\n\\nRoss: There\\'s an image.\\n\\nRachel: (walks up with a pot of coffee) Would anybody like more coffee?\\n\\nChandler: Did you make it, or are you just serving it?\\n\\nRachel: I\\'m just serving it.\\n\\nAll: Yeah. Yeah, I\\'ll have a cup of coffee.\\n\\nChandler: Kids, new dream... I\\'m in Las Vegas. (Rachel sits down to hear Chandler\\'s dream.)\\n\\nCustomer: (To Rachel) Ahh, miss?   More coffee?\\n\\nRachel: Ugh. (To another customer that\\'s leaving.) Excuse me, could you give this to that guy over there? (Hands him the coffee pot.) Go ahead. (He does so.) Thank you. (To the gang.) Sorry.  Okay, Las Vegas.\\n\\nChandler: Okay, so, I\\'m in Las Vegas... I\\'m Liza Minelli-\\n\\nEnd'"
      ]
     },
     "execution_count": 95,
     "metadata": {},
     "output_type": "execute_result"
    }
   ],
   "source": [
    "f = open('friends101.txt', 'r', encoding = 'utf-8')\n",
    "script101 = f.read()\n",
    "script101"
   ]
  },
  {
   "cell_type": "code",
   "execution_count": 94,
   "id": "a1d77dcd",
   "metadata": {},
   "outputs": [
    {
     "name": "stdout",
     "output_type": "stream",
     "text": [
      "The One Where Monica Gets a New Roommate (The Pilot-The Uncut Version)\n",
      "Written by: Marta Kauffman & \n"
     ]
    }
   ],
   "source": [
    "print(script101[:100])"
   ]
  },
  {
   "cell_type": "code",
   "execution_count": 98,
   "id": "4ce18175",
   "metadata": {},
   "outputs": [
    {
     "data": {
      "text/plain": [
       "[\"Monica: There's nothing to tell! He's just some guy I work with!\",\n",
       " \"Monica: Okay, everybody relax. This is not even a date. It's just two people going out to dinner and- not having sex.\",\n",
       " \"Monica: And they weren't looking at you before?!\",\n",
       " 'Monica: Are you okay, sweetie?',\n",
       " 'Monica: (explaining to the others) Carol moved her stuff out today.',\n",
       " 'Monica: (to Ross) Let me get you some coffee.',\n",
       " \"Monica: No you don't.\",\n",
       " 'Monica: Oh really, so that hysterical phone call I got from a woman at sobbing 3:00 A.M., \"I\\'ll never have grandchildren, I\\'ll never have grandchildren.\" was what?  A wrong number?',\n",
       " 'Monica: Rachel?!',\n",
       " 'Monica: (pointing at Rachel) De-caff. (to All) Okay, everybody, this is Rachel, another Lincoln High survivor. (to Rachel) This is everybody, this is Chandler, and Phoebe, and Joey, and- you remember my brother Ross?',\n",
       " 'Monica: So you wanna tell us now, or are we waiting for four wet bridesmaids?',\n",
       " \"Monica: Who wasn't invited to the wedding.\",\n",
       " \"Monica: Now I'm guessing that he bought her the big pipe organ, and she's really not happy about it.\",\n",
       " \"Monica: Well, I guess we've established who's staying here with Monica...\",\n",
       " \"Monica: Just breathe, breathe.. that's it. Just try to think of nice calm things...\",\n",
       " \"Monica: Okay, look, this is probably for the best, y'know? Independence. Taking control of your life.  The whole, 'hat' thing.\",\n",
       " \"Monica: Joey, stop hitting on her! It's her wedding day!\",\n",
       " 'Monica: Oh God, is it 6:30?  Buzz him in!',\n",
       " \"Monica: Maybe. Joey: Wait. Your 'not a real date' tonight is with Paul the Wine Guy?\",\n",
       " 'Monica: Yes!',\n",
       " 'Monica: Rach, wait, I can cancel...',\n",
       " 'Monica: (to Ross) Are, are you okay? I mean, do you want me to stay?',\n",
       " 'Monica: (horrified) Really?',\n",
       " 'Monica: Hi, come in! Paul, this is.. (They are all lined up next to the door.)... everybody, everybody, this is Paul.',\n",
       " \"Monica: Okay, umm-umm, I'll just--I'll be right back, I just gotta go ah, go ah...\",\n",
       " 'Monica: Change!  Okay, sit down. (Shows Paul in) Two seconds.',\n",
       " 'Monica: (yelling from the bedroom) Shut up, Joey!',\n",
       " 'Monica: Oh my God!',\n",
       " \"Monica: My brother's going through that right now, he's such a mess. How did you get through it?\",\n",
       " 'Monica: -leg?',\n",
       " \"Monica: You actually broke her watch?  Wow!  The worst thing I ever did was, I-I shredded by boyfriend's favorite bath towel.\",\n",
       " \"Monica: That's right. [Scene: Monica's Apartment, Rachel is talking on the phone and pacing.]\",\n",
       " 'Monica: What?..... What, you wanna spell it out with noodles?',\n",
       " 'Monica: Oh, so there is gonna be a fifth date?',\n",
       " 'Monica: Yeah... yeah, I think there is. -What were you gonna say?',\n",
       " 'Monica: (spitting out her drink in shock) Oh God, oh God, I am sorry... I am so sorry...',\n",
       " 'Monica: I know being spit on is probably not what you need right now. Um... how long?',\n",
       " \"Monica: Wow! I'm-I'm-I'm glad you smashed her watch!\",\n",
       " 'Monica: (pause)...Yeah. Yeah, I do.',\n",
       " 'Monica: (entering, to herself) Oh good, Lenny and Squigy are here.',\n",
       " 'Monica: Stop!',\n",
       " \"Monica: We'll talk later.\",\n",
       " 'Monica: Shut up, and put my table back.',\n",
       " \"Monica: Yeah, we all have jobs. See, that's how we buy stuff.\",\n",
       " \"Monica: Oh wait, wait, unless you happened to catch the Reruns' production of Pinocchio, at the little theater in the park.\",\n",
       " \"Monica: So how you doing today? Did you sleep okay? Talk to Barry? I can't stop smiling.\",\n",
       " \"Monica: I know, he's just so, so... Do you remember you and Tony DeMarco?\",\n",
       " \"Monica: Well, it's like that. With feelings.\",\n",
       " 'Monica: Big time!',\n",
       " \"Monica: I think we are getting a little ahead of selves here. Okay. Okay. I am just going to get up, go to work and not think about him all day. Or else I'm just gonna get up and go to work.\",\n",
       " 'Monica: What for?',\n",
       " 'Monica: Hey Frannie, welcome back! How was Florida?',\n",
       " 'Monica: How do you do that?',\n",
       " 'Monica: You know Paul?',\n",
       " 'Monica: You mean you know Paul like I know Paul?',\n",
       " 'Monica: Why?! Why? Why, why would anybody do something like that?',\n",
       " 'Monica: I hate men!  I hate men!',\n",
       " 'Monica: Is it me? Is it like I have some sort of beacon that only dogs and men with severe emotional problems can hear?',\n",
       " \"Monica: I just thought he was nice, y'know?\",\n",
       " \"Monica: How'd you pay for them?\",\n",
       " 'Monica: And who pays for that?',\n",
       " \"Monica: C'mon, you can't live off your parents your whole life.\",\n",
       " 'Monica: All right, you ready?',\n",
       " 'Monica: You can, I know you can!',\n",
       " 'Monica:  Rachel!  That was a library card!',\n",
       " \"Monica: Welcome to the real world! It sucks. You're gonna love it!\",\n",
       " \"Monica: Well, that's it (To Ross) You gonna crash on the couch?\",\n",
       " 'Monica: You be okay?',\n",
       " \"Monica: That's Paul's watch. You just put it back where you found it. Oh boy. Alright. Goodnight, everybody.\",\n",
       " \"Monica: See ya.... Waitwait, what's with you?\",\n",
       " 'Monica: What? I-I said you had a-',\n",
       " 'Monica: (to Phoebe) Would you stop?',\n",
       " \"Monica: I said that you had a nice butt, it's just not a great butt.\"]"
      ]
     },
     "execution_count": 98,
     "metadata": {},
     "output_type": "execute_result"
    }
   ],
   "source": [
    "Line = re.findall(r'Monica:.+', script101)\n",
    "Line"
   ]
  },
  {
   "cell_type": "code",
   "execution_count": 101,
   "id": "5ffad21a",
   "metadata": {},
   "outputs": [
    {
     "data": {
      "text/plain": [
       "73"
      ]
     },
     "execution_count": 101,
     "metadata": {},
     "output_type": "execute_result"
    }
   ],
   "source": [
    "len(Line)"
   ]
  },
  {
   "cell_type": "code",
   "execution_count": 102,
   "id": "cec54080",
   "metadata": {
    "scrolled": true
   },
   "outputs": [
    {
     "data": {
      "text/plain": [
       "[\"Monica: There's nothing to tell! He's just some guy I work with!\",\n",
       " \"Monica: Okay, everybody relax. This is not even a date. It's just two people going out to dinner and- not having sex.\",\n",
       " \"Monica: And they weren't looking at you before?!\"]"
      ]
     },
     "execution_count": 102,
     "metadata": {},
     "output_type": "execute_result"
    }
   ],
   "source": [
    "Line[:3]"
   ]
  },
  {
   "cell_type": "code",
   "execution_count": 107,
   "id": "bd5fe3d8",
   "metadata": {},
   "outputs": [],
   "source": [
    "monica = ''\n",
    "f = open('Monica.txt', 'w', encoding = 'utf-8')\n",
    "for i in Line:\n",
    "    monica += i + '\\n'\n",
    "f.write(monica)\n",
    "f.close()"
   ]
  },
  {
   "cell_type": "code",
   "execution_count": 112,
   "id": "d1c48528",
   "metadata": {
    "scrolled": true
   },
   "outputs": [
    {
     "data": {
      "text/plain": [
       "{'All:',\n",
       " 'Chandler:',\n",
       " 'Customer:',\n",
       " 'Frannie:',\n",
       " 'Joey:',\n",
       " 'Monica:',\n",
       " 'Note:',\n",
       " 'Paul:',\n",
       " 'Phoebe:',\n",
       " 'Rachel:',\n",
       " 'Ross:',\n",
       " 'Scene:',\n",
       " 'Waitress:'}"
      ]
     },
     "execution_count": 112,
     "metadata": {},
     "output_type": "execute_result"
    }
   ],
   "source": [
    "char = re.compile(r'[A-Z][a-z]+:') #대문자로 시작하고 소문자 1개이상인 형태\n",
    "re.findall(char, script101)\n",
    "set(re.findall(char, script101))"
   ]
  },
  {
   "cell_type": "code",
   "execution_count": 113,
   "id": "d146ba52",
   "metadata": {},
   "outputs": [
    {
     "data": {
      "text/plain": [
       "['Joey',\n",
       " 'Monica',\n",
       " 'Waitress',\n",
       " 'Customer',\n",
       " 'Scene',\n",
       " 'Phoebe',\n",
       " 'Ross',\n",
       " 'Rachel',\n",
       " 'Note',\n",
       " 'All',\n",
       " 'Frannie',\n",
       " 'Chandler',\n",
       " 'Paul']"
      ]
     },
     "execution_count": 113,
     "metadata": {},
     "output_type": "execute_result"
    }
   ],
   "source": [
    "y = set(re.findall(char, script101))\n",
    "z = list(y)\n",
    "character = []\n",
    "for i in z:\n",
    "    character += [i[:-1]]\n",
    "    \n",
    "character"
   ]
  },
  {
   "cell_type": "code",
   "execution_count": 116,
   "id": "6a743684",
   "metadata": {},
   "outputs": [
    {
     "data": {
      "text/plain": [
       "['Joey',\n",
       " 'Monica',\n",
       " 'Waitress',\n",
       " 'Customer',\n",
       " 'Scene',\n",
       " 'Phoebe',\n",
       " 'Ross',\n",
       " 'Rachel',\n",
       " 'Note',\n",
       " 'All',\n",
       " 'Frannie',\n",
       " 'Chandler',\n",
       " 'Paul']"
      ]
     },
     "execution_count": 116,
     "metadata": {},
     "output_type": "execute_result"
    }
   ],
   "source": [
    "character = [x[:-1] for x in list(set(re.findall(r'[A-Z][a-z]+:', script101)))]\n",
    "character"
   ]
  },
  {
   "cell_type": "code",
   "execution_count": 118,
   "id": "bfaf7932",
   "metadata": {},
   "outputs": [],
   "source": [
    "### note하고 all 삭제해보기"
   ]
  },
  {
   "cell_type": "code",
   "execution_count": 119,
   "id": "3d9a868c",
   "metadata": {},
   "outputs": [
    {
     "data": {
      "text/plain": [
       "['(The Pilot-The Uncut Version)',\n",
       " '(Note: The previously unseen parts of this episode are shown in blue text.)',\n",
       " '(They all stare, bemused.)',\n",
       " '(mortified)',\n",
       " '(explaining to the others)',\n",
       " '(to Ross)',\n",
       " '(She starts to pluck at the air just in front of Ross.)',\n",
       " '(They all stare at him.)',\n",
       " '(Ross gestures his consent.)',\n",
       " '(Rachel enters in a wet wedding dress and starts to search the room.)',\n",
       " '(He extends his hand hopefully.)',\n",
       " '(pointing at Rachel) De-caff. (to All) Okay, everybody, this is Rachel, another Lincoln High survivor. (to Rachel)',\n",
       " \"(They go to hug but Ross's umbrella opens.  He sits back down defeated again.  A moment of silence follows as Rachel sits and the others expect her to explain.)\",\n",
       " \"(to the waitress that brought her coffee)Sweet 'n' Lo?- I realized that I was more turned on by this gravy boat than by Barry! And then I got really freaked out, and that's when it hit me: how much Barry looks like Mr. Potato Head. Y'know, I mean, I always knew looked familiar, but... Anyway, I just had to get out of there, and I started wondering 'Why am I doing this, and who am I doing this for?'. (to Monica)\",\n",
       " '(imitating the characters)',\n",
       " '(in a deep voice)',\n",
       " '(on phone)',\n",
       " '(The scene on TV has changed to show two women, one is holding her hair.)',\n",
       " '(She is pushed down the stairs and everyone cheers.)',\n",
       " '(sings) Raindrops on roses and rabbits and kittens, (Rachel and Monica turn to look at her.)',\n",
       " '(grins and walks to the kitchen and says to Chandler and Joey.)',\n",
       " '(comforting her)',\n",
       " '(The door buzzer sounds and Chandler gets it.)',\n",
       " '(over the intercom)',\n",
       " '(to Ross)',\n",
       " '(choked voice)',\n",
       " '(horrified)',\n",
       " '(normal voice)',\n",
       " \"(Chandler doesn't know.)\",\n",
       " \"(There's a knock on the door and it's Paul.)\",\n",
       " '(They are all lined up next to the door.)',\n",
       " '(Shows Paul in)',\n",
       " '(Monica goes to change.)',\n",
       " '(yelling from the bedroom)',\n",
       " '(thinks)',\n",
       " '(deadpan)',\n",
       " '(singing) Love is sweet as summer showers, love is a wondrous work of art, but your love oh your love, your love...is like a giant pigeon...crapping on my heart.  La-la-la-la-la- (some guy gives her some change and to that guy) Thank you. (sings)',\n",
       " '(squatting and reading the instructions)',\n",
       " '(Joey and Chandler are finishing assembling the bookcase.)',\n",
       " '(picking up a leftover part)',\n",
       " '(Joey checks that Ross is not looking and dumps it in a plant.)',\n",
       " '(clutching a beer can and sniffing)',\n",
       " '(laughing)',\n",
       " \"(She stops talking and dials the phone.) Hi, machine cut me off again... anyway...look, look, I know that some girl is going to be incredibly lucky to become Mrs. Barry Finkel, but it isn't me, it's not me.  And not that I have any idea who me is right now, but you just have to give me a chance too... (The maching cuts her off again and she redials.)\",\n",
       " '(Chandler hits what he is working on with a hammer and it collapses.)',\n",
       " '(Monica takes a sip of her drink.)',\n",
       " '(spitting out her drink in shock)',\n",
       " '(pause)',\n",
       " '(scornful)',\n",
       " '(looks to Chandler)',\n",
       " '(Exits.)',\n",
       " '(He gazes out of the window.)',\n",
       " '(Joey and Chandler taste the coffee, grimace, and pour it into a plant pot.)',\n",
       " '(entering, to herself)',\n",
       " \"(entering from Monica's room)\",\n",
       " \"(Monica and Paul walk to the door and talk in a low voice so the others can't hear.  The others move Monica's table closer to the door so that they can.)\",\n",
       " '(They kiss) Thank you. (Exits)',\n",
       " '(They do so.)',\n",
       " '(Walks to the door and opens it to leave.)',\n",
       " '(Burst into song and dances out of the door.)',\n",
       " '(Starts after Chandler.)',\n",
       " '(Thinks)',\n",
       " '(Monica exits.)',\n",
       " '(sitting on the arm of the couch)',\n",
       " '(She starts massaging them.)',\n",
       " '(bursts out laughing again)',\n",
       " '(Monica pushes him off of the sofa as Rachel enters with a shopping bag.)',\n",
       " '(Pause)',\n",
       " '(Chandler slowly tries to hide the now dead plant from that morning when he and Joey poured their coffee into it.)',\n",
       " '(She cuts one of them and they cheer.)',\n",
       " '(as Rachel is cutting up her cards)',\n",
       " '(She finishes cutting them up and they all cheer.)',\n",
       " '(To Ross)',\n",
       " '(Monica smiles.)',\n",
       " \"(Monica stomps on Paul's watch and goes into her room.)\",\n",
       " '(They both reach for the last cookie)',\n",
       " '(They split it.)',\n",
       " '(Rachel goes into her room and Monica enters the living room as Ross is leaving.)',\n",
       " '(Ross exits and Monica has no idea what that means.)',\n",
       " '(sings)',\n",
       " '(sings)',\n",
       " '(to Phoebe)',\n",
       " '(walks up with a pot of coffee)',\n",
       " \"(Rachel sits down to hear Chandler's dream.)\",\n",
       " '(To Rachel)',\n",
       " \"(To another customer that's leaving.) Excuse me, could you give this to that guy over there? (Hands him the coffee pot.) Go ahead. (He does so.) Thank you. (To the gang.)\"]"
      ]
     },
     "execution_count": 119,
     "metadata": {},
     "output_type": "execute_result"
    }
   ],
   "source": [
    "pattern = r'\\([A-Za-z].+[a-z|\\.]\\)'\n",
    "re.findall(pattern, script101)"
   ]
  },
  {
   "cell_type": "code",
   "execution_count": 125,
   "id": "dce6c943",
   "metadata": {},
   "outputs": [
    {
     "data": {
      "text/plain": [
       "['David Crane\\n',\n",
       " 'Transcribed by: guineapig\\n',\n",
       " 'Additional transcribing by: Eric Aasen\\n']"
      ]
     },
     "execution_count": 125,
     "metadata": {},
     "output_type": "execute_result"
    }
   ],
   "source": [
    "import os, re\n",
    "os.chdir(r'c:\\doit\\life')\n",
    "\n",
    "f = open('friends101.txt', 'r', encoding = 'utf-8')\n",
    "f.read(100)\n",
    "#f.seek(0)\n",
    "sentences = f.readlines()\n",
    "sentences[:3]"
   ]
  },
  {
   "cell_type": "code",
   "execution_count": 126,
   "id": "9695b298",
   "metadata": {},
   "outputs": [
    {
     "name": "stdout",
     "output_type": "stream",
     "text": [
      "Monica: There's nothing to tell! He's just some guy I work with!\n",
      "\n",
      "Joey: C'mon, you're going out with the guy! There's gotta be something wrong with him!\n",
      "\n",
      "Chandler: All right Joey, be nice.  So does he have a hump? A hump and a hairpiece?\n",
      "\n",
      "Phoebe: Wait, does he eat chalk?\n",
      "\n",
      "Phoebe: Just, 'cause, I don't want her to go through what I went through with Carl- oh!\n",
      "\n",
      "Monica: Okay, everybody relax. This is not even a date. It's just two people going out to dinner and- not having sex.\n",
      "\n"
     ]
    }
   ],
   "source": [
    "for i in sentences[:20]:\n",
    "    if re.match(r'[A-Z][a-z]+:', i): #match는 맨 앞 일치\n",
    "        print(i)"
   ]
  },
  {
   "cell_type": "code",
   "execution_count": 128,
   "id": "48737a9d",
   "metadata": {
    "scrolled": true
   },
   "outputs": [
    {
     "data": {
      "text/plain": [
       "[\"Monica: There's nothing to tell! He's just some guy I work with!\\n\",\n",
       " \"Joey: C'mon, you're going out with the guy! There's gotta be something wrong with him!\\n\",\n",
       " 'Chandler: All right Joey, be nice.  So does he have a hump? A hump and a hairpiece?\\n',\n",
       " 'Phoebe: Wait, does he eat chalk?\\n',\n",
       " \"Phoebe: Just, 'cause, I don't want her to go through what I went through with Carl- oh!\\n\",\n",
       " \"Monica: Okay, everybody relax. This is not even a date. It's just two people going out to dinner and- not having sex.\\n\",\n",
       " 'Chandler: Sounds like a date to me.\\n',\n",
       " \"Chandler: Alright, so I'm back in high school, I'm standing in the middle of the cafeteria, and I realize I am totally naked.\\n\",\n",
       " 'All: Oh, yeah. Had that dream.\\n',\n",
       " \"Chandler: Then I look down, and I realize there's a phone... there.\\n\"]"
      ]
     },
     "execution_count": 128,
     "metadata": {},
     "output_type": "execute_result"
    }
   ],
   "source": [
    "lines = [i for i in sentences if re.match(r'[A-Z][a-z]+:', i)]\n",
    "lines[:10]"
   ]
  },
  {
   "cell_type": "code",
   "execution_count": 133,
   "id": "122d925c",
   "metadata": {},
   "outputs": [
    {
     "data": {
      "text/plain": [
       "[\"Rachel: Ooh, I was kinda hoping that wouldn't be an issue... [Scene: Monica's Apartment, everyone is there and watching a Spanish Soap on TV and are trying to figure out what is going on.]\\n\",\n",
       " \"Chandler: I would have to say that is an 'L'-shaped bracket.\\n\",\n",
       " 'Monica: Why?! Why? Why, why would anybody do something like that?\\n',\n",
       " 'Rachel: You would be too if you found John and David boots on sale, fifty percent off!\\n',\n",
       " 'Ross: Oh. Listen, do you think- and try not to let my intense vulnerability become any kind of a factor here- but do you think it would be okay if I asked you out? Sometime? Maybe?\\n',\n",
       " \"Joey: Oh, you wouldn't know a great butt if it came up and bit ya.\\n\"]"
      ]
     },
     "execution_count": 133,
     "metadata": {},
     "output_type": "execute_result"
    }
   ],
   "source": [
    "would = [i for i in sentences if re.match(r'[A-Z][a-z]+:', i) and re.search('would', i)]\n",
    "would"
   ]
  },
  {
   "cell_type": "code",
   "execution_count": 136,
   "id": "5c954e60",
   "metadata": {},
   "outputs": [
    {
     "data": {
      "text/plain": [
       "['Ross: I told mom and dad last night, they seemed to take it pretty well.\\n',\n",
       " \"Paul: Well, ever-ev-... ever since she left me, um, I haven't been able to, uh, perform. (Monica takes a sip of her drink.) ...Sexually.\\n\",\n",
       " 'Joey: I will not take this abuse. (Walks to the door and opens it to leave.)\\n',\n",
       " \"Frannie: Are you kidding? I take credit for Paul. Y'know before me, there was no snap in his turtle for two years.\\n\"]"
      ]
     },
     "execution_count": 136,
     "metadata": {},
     "output_type": "execute_result"
    }
   ],
   "source": [
    "take = [i for i in sentences if re.match(r'[A-Z][a-z]+:', i) and re.search('take', i)]\n",
    "take"
   ]
  },
  {
   "cell_type": "markdown",
   "id": "36d0189e",
   "metadata": {},
   "source": [
    "### 17일차 연습문제 - friends101\n",
    "실습에서는 Monica 대사만 모아서 Monica.txt파일로 저장했습니다.\n",
    "\n",
    "연습문제는 다음과 같습니다.\n",
    "\n",
    "character리스트에 있는 모든 캐릭터 별로 캐릭터이름.txt 파일들로 저장하세요.\n",
    "- 'Joey','Waitress','Customer','Phoebe','Ross','Rachel','Frannie','Chandler','Paul'"
   ]
  },
  {
   "cell_type": "markdown",
   "id": "9ddbcef5",
   "metadata": {},
   "source": [
    "#### Joey"
   ]
  },
  {
   "cell_type": "code",
   "execution_count": 137,
   "id": "a7e5700b",
   "metadata": {
    "scrolled": false
   },
   "outputs": [
    {
     "data": {
      "text/plain": [
       "[\"Joey: C'mon, you're going out with the guy! There's gotta be something wrong with him!\",\n",
       " 'Joey: Instead of...?',\n",
       " 'Joey: Never had that dream.',\n",
       " 'Joey: This guy says hello, I wanna kill myself.',\n",
       " 'Joey: Ohh.',\n",
       " 'Joey: And you never knew she was a lesbian...',\n",
       " \"Joey: Alright Ross, look. You're feeling a lot of pain right now. You're angry. You're hurting. Can I tell you what the answer is?\",\n",
       " \"Joey: Strip joint! C'mon, you're single! Have some hormones!\",\n",
       " 'Joey: I say push her down the stairs.',\n",
       " 'Joey:  Push her down the stairs! Push her down the stairs! Push her down the stairs!',\n",
       " \"Joey: (comforting her) And hey, you need anything, you can always come to Joey. Me and Chandler live across the hall. And he's away a lot.\",\n",
       " \"Joey: What, like there's a rule or something?\",\n",
       " \"Joey: Who's Paul?\",\n",
       " \"Joey: Wait. Your 'not a real date' tonight is with Paul the Wine Guy?\",\n",
       " 'Joey:  Hey, Paul!',\n",
       " \"Joey: Here's a little tip, she really likes it when you rub her neck in the same spot over and over and over again until it starts to get a little red.\",\n",
       " 'Joey: Hey Pheebs, you wanna help?',\n",
       " \"Joey: I'm thinking we've got a bookcase here.\",\n",
       " \"Joey: (picking up a leftover part) What's this?\",\n",
       " 'Joey: Which goes where?',\n",
       " 'Joey: Done with the bookcase!',\n",
       " \"Joey: Hey-hey-hey-hey, if you're gonna start with that stuff we're outta here.\",\n",
       " 'Joey: Ross, let me ask you a question. She got the furniture, the stereo, the good TV- what did you get?',\n",
       " 'Joey: You got screwed.',\n",
       " 'Joey: Shut up!',\n",
       " \"Joey: What are you talking about? 'One woman'? That's like saying there's only one flavor of ice cream for you. Lemme tell you something, Ross. There's lots of flavors out there. There's Rocky Road, and Cookie Dough, and Bing! Cherry Vanilla. You could get 'em with Jimmies, or nuts, or whipped cream! This is the best thing that ever happened to you! You got married, you were, like, what, eight? Welcome back to the world! Grab a spoon!\",\n",
       " 'Joey: Great story!  But, I uh, I gotta go, I got a date with Andrea--Angela--Andrea...  Oh man, (looks to Chandler)',\n",
       " \"Joey: Right.  Thanks.  It's June.  I'm outta here. (Exits.)\",\n",
       " 'Joey: Congratulations.',\n",
       " \"Joey: Listen, while you're on a roll, if you feel like you gotta make like a Western omelet or something... (Joey and Chandler taste the coffee, grimace, and pour it into a plant pot.) Although actually I'm really not that hungry...\",\n",
       " 'Joey: Morning, Paul.',\n",
       " \"Joey: That wasn't a real date?! What the hell do you do on a real date?\",\n",
       " \"Joey: Yeah, I'm an actor.\",\n",
       " 'Joey: I doubt it. Mostly regional work.',\n",
       " 'Joey: Look, it was a job all right?',\n",
       " 'Joey: I will not take this abuse. (Walks to the door and opens it to leave.)',\n",
       " \"Joey: You should both know, that he's a dead man.  Oh, Chandler? (Starts after Chandler.)\",\n",
       " 'Joey: (sitting on the arm of the couch)Of course it was a line!',\n",
       " \"Joey: (bursts out laughing again) I can't believe you didn't know it was a line!\",\n",
       " \"Joey: I can't believe what I'm hearing here.\",\n",
       " \"Joey: Oh, you wouldn't know a great butt if it came up and bit ya.\"]"
      ]
     },
     "execution_count": 137,
     "metadata": {},
     "output_type": "execute_result"
    }
   ],
   "source": [
    "Joey = re.findall(r'Joey:.+', script101)\n",
    "Joey"
   ]
  },
  {
   "cell_type": "code",
   "execution_count": 140,
   "id": "6cca4a13",
   "metadata": {},
   "outputs": [],
   "source": [
    "joey = ''\n",
    "f = open('Joey.txt', 'w', encoding = 'utf-8')\n",
    "for i in Joey:\n",
    "    joey += i + '\\n'\n",
    "f.write(joey)\n",
    "f.close()"
   ]
  },
  {
   "cell_type": "markdown",
   "id": "938a3bad",
   "metadata": {},
   "source": [
    "#### Waitress"
   ]
  },
  {
   "cell_type": "code",
   "execution_count": 145,
   "id": "f4fde7ad",
   "metadata": {
    "scrolled": true
   },
   "outputs": [
    {
     "data": {
      "text/plain": [
       "['Waitress: Can I get you some coffee?']"
      ]
     },
     "execution_count": 145,
     "metadata": {},
     "output_type": "execute_result"
    }
   ],
   "source": [
    "Waitress = re.findall(r'Waitress:.+', script101)\n",
    "Waitress"
   ]
  },
  {
   "cell_type": "code",
   "execution_count": 146,
   "id": "d3e2b10a",
   "metadata": {},
   "outputs": [],
   "source": [
    "waitress = ''\n",
    "f = open('Waitress.txt', 'w', encoding = 'utf-8')\n",
    "for i in Waitress:\n",
    "    waitress += i + '\\n'\n",
    "f.write(waitress)\n",
    "f.close()"
   ]
  },
  {
   "cell_type": "markdown",
   "id": "140e08c1",
   "metadata": {},
   "source": [
    "#### Customer"
   ]
  },
  {
   "cell_type": "code",
   "execution_count": 148,
   "id": "d651c13c",
   "metadata": {},
   "outputs": [
    {
     "data": {
      "text/plain": [
       "['Customer: (To Rachel) Ahh, miss?   More coffee?']"
      ]
     },
     "execution_count": 148,
     "metadata": {},
     "output_type": "execute_result"
    }
   ],
   "source": [
    "Customer = re.findall(r'Customer:.+', script101)\n",
    "Customer"
   ]
  },
  {
   "cell_type": "code",
   "execution_count": 150,
   "id": "61b7aff9",
   "metadata": {},
   "outputs": [],
   "source": [
    "customer = ''\n",
    "f = open('Customer.txt', 'w', encoding = 'utf-8')\n",
    "for i in Customer:\n",
    "    customer += i + '\\n'\n",
    "f.write(customer)\n",
    "f.close()"
   ]
  },
  {
   "cell_type": "markdown",
   "id": "6a7e8ae2",
   "metadata": {},
   "source": [
    "#### Phoebe"
   ]
  },
  {
   "cell_type": "code",
   "execution_count": 151,
   "id": "820e06e0",
   "metadata": {},
   "outputs": [
    {
     "data": {
      "text/plain": [
       "['Phoebe: Wait, does he eat chalk?',\n",
       " \"Phoebe: Just, 'cause, I don't want her to go through what I went through with Carl- oh!\",\n",
       " 'Phoebe: No.',\n",
       " 'Phoebe: Ooh! Oh! (She starts to pluck at the air just in front of Ross.)',\n",
       " 'Phoebe: Fine!  Be murky!',\n",
       " 'Phoebe:  If I let go of my hair, my head will fall off.',\n",
       " 'Phoebe: (sings) Raindrops on roses and rabbits and kittens, (Rachel and Monica turn to look at her.) bluebells and sleighbells and- something with mittens... La la la la...something and noodles with string.  These are a few...',\n",
       " 'Phoebe: (grins and walks to the kitchen and says to Chandler and Joey.) I helped!',\n",
       " \"Phoebe: What does that mean?   Does he sell it, drink it, or just complain a lot? (Chandler doesn't know.)\",\n",
       " \"Phoebe: Ooh, I just pulled out four eyelashes. That can't be good.\",\n",
       " \"Phoebe: Oh, I wish I could, but I don't want to.\",\n",
       " 'Phoebe: (singing) Love is sweet as summer showers, love is a wondrous work of art, but your love oh your love, your love...is like a giant pigeon...crapping on my heart.  La-la-la-la-la- (some guy gives her some change and to that guy) Thank you. (sings) La-la-la-la...ohhh!',\n",
       " \"Phoebe: Oh no, don't hate, you don't want to put that out into the universe.\",\n",
       " \"Phoebe: All right, c'mere, gimme your feet. (She starts massaging them.)\",\n",
       " \"Phoebe: Give her a break, it's hard being on your own for the first time.\",\n",
       " \"Phoebe: You're welcome. I remember when I first came to this city. I was fourteen. My mom had just killed herself and my step-dad was back in prison, and I got here, and I didn't know anybody. And I ended up living with this albino guy who was, like, cleaning windshields outside port authority, and then he killed himself, and then I found aromatherapy. So believe me, I know exactly how you feel.\",\n",
       " \"Phoebe: (sings) I can't believe what I'm hearing here...\",\n",
       " 'Phoebe: (sings) What I said you had...',\n",
       " 'Phoebe: Oh, was I doing it again?']"
      ]
     },
     "execution_count": 151,
     "metadata": {},
     "output_type": "execute_result"
    }
   ],
   "source": [
    "Phoebe = re.findall(r'Phoebe:.+', script101)\n",
    "Phoebe"
   ]
  },
  {
   "cell_type": "code",
   "execution_count": 152,
   "id": "ae439570",
   "metadata": {},
   "outputs": [],
   "source": [
    "phoebe = ''\n",
    "f = open('Phoebe.txt', 'w', encoding = 'utf-8')\n",
    "for i in Phoebe:\n",
    "    phoebe += i + '\\n'\n",
    "f.write(phoebe)\n",
    "f.close()"
   ]
  },
  {
   "cell_type": "markdown",
   "id": "4528ed84",
   "metadata": {},
   "source": [
    "#### Ross"
   ]
  },
  {
   "cell_type": "code",
   "execution_count": 153,
   "id": "a8ddefc7",
   "metadata": {},
   "outputs": [
    {
     "data": {
      "text/plain": [
       "['Ross: (mortified) Hi.',\n",
       " 'Ross: I just feel like someone reached down my throat, grabbed my small intestine, pulled it out of my mouth and tied it around my neck...',\n",
       " 'Ross: Thanks.',\n",
       " \"Ross: No, no don't! Stop cleansing my aura! No, just leave my aura alone, okay?\",\n",
       " \"Ross: I'll be fine, alright? Really, everyone. I hope she'll be very happy.\",\n",
       " \"Ross: No I don't, to hell with her, she left me!\",\n",
       " \"Ross: No!! Okay?! Why does everyone keep fixating on that? She didn't know, how should I know?\",\n",
       " 'Ross: I told mom and dad last night, they seemed to take it pretty well.',\n",
       " 'Ross: Sorry.',\n",
       " \"Ross: I don't want to be single, okay? I just... I just- I just wanna be married again!\",\n",
       " 'Ross: Hi.',\n",
       " \"Ross: (in a deep voice) I'll have whatever Christine is having.\",\n",
       " \"Ross: You can see where he'd have trouble.\",\n",
       " 'Ross: Paul the Wine Guy, Paul?',\n",
       " 'Ross: He finally asked you out?',\n",
       " \"Ross: (choked voice) That'd be good...\",\n",
       " \"Ross: (normal voice) No, go on! It's Paul the Wine Guy!\",\n",
       " 'Ross: A wandering?',\n",
       " \"Ross: So Rachel, what're you, uh... what're you up to tonight?\",\n",
       " \"Ross: Right, you're not even getting your honeymoon, God.. No, no, although, Aruba, this time of year... talk about your- (thinks) -big lizards... Anyway, if you don't feel like being alone tonight, Joey and Chandler are coming over to help me put together my new furniture.\",\n",
       " 'Ross: Okay, sure.',\n",
       " \"Ross: (squatting and reading the instructions) I'm supposed to attach a brackety thing to the side things, using a bunch of these little worm guys. I have no brackety thing, I see no whim guys whatsoever and- I cannot feel my legs.\",\n",
       " \"Ross: (clutching a beer can and sniffing) This was Carol's favorite beer. She always drank it out of the can, I should have known.\",\n",
       " 'Ross: You guys.',\n",
       " \"Ross: I'm divorced!  I'm only 26 and I'm divorced!\",\n",
       " 'Ross: That only took me an hour.',\n",
       " \"Ross: You know what the scariest part is? What if there's only one woman for everybody, y'know? I mean what if you get one woman- and that's it? Unfortunately in my case, there was only one woman- for her...\",\n",
       " \"Ross: I honestly don't know if I'm hungry or horny.\",\n",
       " \"Ross: (scornful) Grab a spoon. Do you know how long it's been since I've grabbed a spoon? Do the words 'Billy, don't be a hero' mean anything to you?\",\n",
       " \"Ross: Y'know, here's the thing. Even if I could get it together enough to- to ask a woman out,... who am I gonna ask? (He gazes out of the window.)\",\n",
       " \"Ross: I assume we're looking for an answer more sophisticated than 'to get you into bed'.\",\n",
       " 'Ross: You got a job?',\n",
       " \"Ross: The word you're looking for is 'Anyway'...\",\n",
       " 'Ross: Come on, you made coffee!   You can do anything! (Chandler slowly tries to hide the now dead plant from that morning when he and Joey poured their coffee into it.)',\n",
       " \"Ross: C'mon, cut. Cut, cut, cut,...\",\n",
       " 'Ross: No. No, I gotta go home sometime.',\n",
       " 'Ross: Yeah.',\n",
       " 'Ross: Mmm. (They both reach for the last cookie) Oh, no-',\n",
       " 'Ross: No no no, go-',\n",
       " 'Ross: Split it?',\n",
       " \"Ross: Okay. (They split it.) You know you probably didn't know this, but back in high school, I had a, um, major crush on you.\",\n",
       " \"Ross: You did! Oh.... I always figured you just thought I was Monica's geeky older brother.\",\n",
       " 'Ross: Oh. Listen, do you think- and try not to let my intense vulnerability become any kind of a factor here- but do you think it would be okay if I asked you out? Sometime? Maybe?',\n",
       " 'Ross: Okay... okay, maybe I will...',\n",
       " 'Ross: Goodnight.',\n",
       " 'Ross: I just grabbed a spoon. (Ross exits and Monica has no idea what that means.)',\n",
       " \"Ross: There's an image.\"]"
      ]
     },
     "execution_count": 153,
     "metadata": {},
     "output_type": "execute_result"
    }
   ],
   "source": [
    "Ross = re.findall(f'Ross:.+', script101)\n",
    "Ross"
   ]
  },
  {
   "cell_type": "code",
   "execution_count": 155,
   "id": "7b229aaa",
   "metadata": {},
   "outputs": [],
   "source": [
    "ross = ''\n",
    "f = open('Ross.txt', 'w', encoding = 'utf-8')\n",
    "for i in Ross:\n",
    "    ross += i + '\\n'\n",
    "f.write(ross)\n",
    "f.close()"
   ]
  },
  {
   "cell_type": "markdown",
   "id": "6ceeb21e",
   "metadata": {},
   "source": [
    "#### Rachel"
   ]
  },
  {
   "cell_type": "code",
   "execution_count": 157,
   "id": "03f29d8a",
   "metadata": {},
   "outputs": [
    {
     "data": {
      "text/plain": [
       "[\"Rachel: Oh God Monica hi! Thank God! I just went to your building and you weren't there and then this guy with a big hammer said you might be here and you are, you are!\",\n",
       " 'Rachel: Hi, sure!',\n",
       " \"Rachel: Oh God... well, it started about a half hour before the wedding. I was in the room where we were keeping all the presents, and I was looking at this gravy boat. This really gorgeous Lamauge gravy boat. When all of a sudden- (to the waitress that brought her coffee)Sweet 'n' Lo?- I realized that I was more turned on by this gravy boat than by Barry! And then I got really freaked out, and that's when it hit me: how much Barry looks like Mr. Potato Head. Y'know, I mean, I always knew looked familiar, but... Anyway, I just had to get out of there, and I started wondering 'Why am I doing this, and who am I doing this for?'. (to Monica) So anyway I just didn't know where to go, and I know that you and I have kinda drifted apart, but you're the only person I knew who lived here in the city.\",\n",
       " \"Rachel: Ooh, I was kinda hoping that wouldn't be an issue... [Scene: Monica's Apartment, everyone is there and watching a Spanish Soap on TV and are trying to figure out what is going on.]\",\n",
       " \"Rachel: (on phone) Daddy, I just... I can't marry him! I'm sorry. I just don't love him. Well, it matters to me!\",\n",
       " \"Rachel: C'mon Daddy, listen to me! It's like, it's like, all of my life, everyone has always told me, 'You're a shoe! You're a shoe, you're a shoe, you're a shoe!'. And today I just stopped and I said, 'What if I don't wanna be a shoe? What if I wanna be a- a purse, y'know? Or a- or a hat! No, I'm not saying I want you to buy me a hat, I'm saying I am a ha- It's a metaphor, Daddy!\",\n",
       " \"Rachel: Look Daddy, it's my life. Well maybe I'll just stay here with Monica.\",\n",
       " \"Rachel: Well, maybe that's my decision. Well, maybe I don't need your money. Wait!! Wait, I said maybe!!\",\n",
       " \"Rachel: I'm all better now.\",\n",
       " \"Rachel: Please, no, go, that'd be fine!\",\n",
       " 'Rachel: Well, I was kinda supposed to be headed for Aruba on my honeymoon, so nothing!',\n",
       " \"Rachel: Well actually thanks, but I think I'm just gonna hang out here tonight.  It's been kinda a long day.\",\n",
       " \"Rachel: Barry, I'm sorry... I am so sorry... I know you probably think that this is all about what I said the other day about you making love with your socks on, but it isn't... it isn't, it's about me, and I ju- (She stops talking and dials the phone.) Hi, machine cut me off again... anyway...look, look, I know that some girl is going to be incredibly lucky to become Mrs. Barry Finkel, but it isn't me, it's not me.  And not that I have any idea who me is right now, but you just have to give me a chance too... (The maching cuts her off again and she redials.)\",\n",
       " \"Rachel: Oh...see... but Joanne loved Chachi! That's the difference!\",\n",
       " \"Rachel: Isn't this amazing? I mean, I have never made coffee before in my entire life.\",\n",
       " \"Rachel: Y'know, I figure if I can make coffee, there isn't anything I can't do.\",\n",
       " 'Rachel: Hello, Paul.',\n",
       " 'Rachel: So, like, you guys all have jobs?',\n",
       " 'Rachel: Wow! Would I have seen you in anything?',\n",
       " 'Rachel: I can see that. You look like you slept with a hanger in your mouth.',\n",
       " 'Rachel: Oh, yeah.',\n",
       " 'Rachel: Oh wow. Are you in trouble.',\n",
       " 'Rachel: Want a wedding dress?   Hardly used.',\n",
       " 'Rachel: Oh, look, wish me luck!',\n",
       " \"Rachel: I'm gonna go get one of those (Thinks) job things.\",\n",
       " 'Rachel: Guess what?',\n",
       " \"Rachel: Are you kidding? I'm trained for nothing! I was laughed out of twelve interviews today.\",\n",
       " 'Rachel: You would be too if you found John and David boots on sale, fifty percent off!',\n",
       " \"Rachel: They're my new 'I don't need a job, I don't need my parents, I've got great boots' boots!\",\n",
       " 'Rachel: Uh, credit card.',\n",
       " 'Rachel: Um... my... father.',\n",
       " 'Rachel: Oh God, come on you guys, is this really necessary?  I mean, I can stop charging anytime I want.',\n",
       " \"Rachel: I know that. That's why I was getting married.\",\n",
       " 'Rachel: Thank you.',\n",
       " 'Rachel: No.  No, no, I\\'m not ready!  How can I be ready?  \"Hey, Rach!  You ready to jump out the airplane without your parachute?\"  Come on, I can\\'t do this!',\n",
       " \"Rachel: I don't think so.\",\n",
       " \"Rachel: Y'know what?  I think we can just leave it at that.  It's kinda like a symbolic gesture...\",\n",
       " 'Rachel: Hey Mon, look what I just found on the floor. (Monica smiles.) What?',\n",
       " 'Rachel: Goodnight.',\n",
       " 'Rachel: Sorry-',\n",
       " \"Rachel: No, you have it, really, I don't want it-\",\n",
       " 'Rachel: Okay.',\n",
       " 'Rachel: I knew.',\n",
       " 'Rachel: I did.',\n",
       " 'Rachel: Yeah, maybe...',\n",
       " 'Rachel: Goodnight.',\n",
       " 'Rachel: (walks up with a pot of coffee) Would anybody like more coffee?',\n",
       " \"Rachel: I'm just serving it.\",\n",
       " \"Rachel: Ugh. (To another customer that's leaving.) Excuse me, could you give this to that guy over there? (Hands him the coffee pot.) Go ahead. (He does so.) Thank you. (To the gang.) Sorry.  Okay, Las Vegas.\"]"
      ]
     },
     "execution_count": 157,
     "metadata": {},
     "output_type": "execute_result"
    }
   ],
   "source": [
    "Rachel = re.findall(r'Rachel:.+', script101)\n",
    "Rachel"
   ]
  },
  {
   "cell_type": "code",
   "execution_count": 158,
   "id": "77665ca1",
   "metadata": {},
   "outputs": [],
   "source": [
    "rachel = ''\n",
    "f = open('Rachel.txt', 'w', encoding = 'utf-8')\n",
    "for i in Rachel:\n",
    "    rachel += i + '\\n'\n",
    "f.write(rachel)\n",
    "f.close()"
   ]
  },
  {
   "cell_type": "markdown",
   "id": "d6374393",
   "metadata": {},
   "source": [
    "#### Frannie"
   ]
  },
  {
   "cell_type": "code",
   "execution_count": 159,
   "id": "b724b4e4",
   "metadata": {},
   "outputs": [
    {
     "data": {
      "text/plain": [
       "['Frannie: Hey, Monica!',\n",
       " \"Frannie: You had sex, didn't you?\",\n",
       " \"Frannie: Oh, I hate you, I'm pushing my Aunt Roz through Parrot Jungle and you're having sex!  So? Who?\",\n",
       " 'Frannie: Paul the Wine Guy? Oh yeah, I know Paul.',\n",
       " \"Frannie: Are you kidding? I take credit for Paul. Y'know before me, there was no snap in his turtle for two years.\"]"
      ]
     },
     "execution_count": 159,
     "metadata": {},
     "output_type": "execute_result"
    }
   ],
   "source": [
    "Frannie = re.findall(r'Frannie:.+', script101)\n",
    "Frannie"
   ]
  },
  {
   "cell_type": "code",
   "execution_count": 160,
   "id": "62377914",
   "metadata": {},
   "outputs": [],
   "source": [
    "frannie = ''\n",
    "f = open('Frannie.txt', 'w', encoding = 'utf-8')\n",
    "for i in Frannie:\n",
    "    frannie += i +'\\n'\n",
    "f.write(frannie)\n",
    "f.close()"
   ]
  },
  {
   "cell_type": "markdown",
   "id": "208ebf87",
   "metadata": {},
   "source": [
    "#### Chandler"
   ]
  },
  {
   "cell_type": "code",
   "execution_count": 162,
   "id": "0eba00d7",
   "metadata": {},
   "outputs": [
    {
     "data": {
      "text/plain": [
       "['Chandler: All right Joey, be nice.  So does he have a hump? A hump and a hairpiece?',\n",
       " 'Chandler: Sounds like a date to me.',\n",
       " \"Chandler: Alright, so I'm back in high school, I'm standing in the middle of the cafeteria, and I realize I am totally naked.\",\n",
       " \"Chandler: Then I look down, and I realize there's a phone... there.\",\n",
       " \"Chandler: That's right.\",\n",
       " \"Chandler: All of a sudden, the phone starts to ring. Now I don't know what to do, everybody starts looking at me.\",\n",
       " \"Chandler: Finally, I figure I'd better answer it, and it turns out it's my mother, which is very-very weird, because- she never calls me!\",\n",
       " 'Chandler: Cookie?',\n",
       " 'Chandler: Sometimes I wish I was a lesbian... (They all stare at him.) Did I say that out loud?',\n",
       " 'Chandler: And I just want a million dollars! (He extends his hand hopefully.)',\n",
       " 'Chandler: (imitating the characters) Tuna or egg salad?  Decide!',\n",
       " 'Chandler: (re TV) Ooh, she should not be wearing those pants.',\n",
       " \"Chandler: Please don't do that again, it's a horrible sound.\",\n",
       " 'Chandler: Ooh, this is a Dear Diary moment.',\n",
       " \"Chandler: I'm sorry, I didn't catch your name. Paul, was it?\",\n",
       " \"Chandler: (deadpan) Yes, and we're very excited about it.\",\n",
       " \"Chandler: It's a beautiful thing.\",\n",
       " \"Chandler: I would have to say that is an 'L'-shaped bracket.\",\n",
       " 'Chandler: I have no idea.',\n",
       " 'Chandler: All finished!',\n",
       " \"Chandler: Yes, please don't spoil all this fun.\",\n",
       " 'Chandler: Oh, God.',\n",
       " 'Chandler: Oh my God!',\n",
       " 'Chandler: You must stop! (Chandler hits what he is working on with a hammer and it collapses.)',\n",
       " \"Chandler: Look, Ross, you gotta understand, between us we haven't had a relationship that has lasted longer than a Mento.   You, however have had the love of a woman for four years.   Four years of closeness and sharing at the end of which she ripped your heart out, and that is why we don't do it!  I don't think that was my point!\",\n",
       " 'Chandler: Stay out of my freezer! [Scene: A Restaurant, Monica and Paul are still eating.]',\n",
       " \"Chandler: Angela's the screamer, Andrea has cats.\",\n",
       " 'Chandler: That is amazing.',\n",
       " \"Chandler: If can invade Poland, there isn't anything I can't do.\",\n",
       " 'Chandler: Hi, Paul, is it?',\n",
       " \"Chandler: All right, kids, I gotta get to work. If I don't input those numbers,... it doesn't make much of a difference...\",\n",
       " \"Chandler: 'Look, Gippetto, I'm a real live boy.'\",\n",
       " 'Chandler: You\\'re right, I\\'m sorry. (Burst into song and dances out of the door.) \"Once I was a wooden boy, a little wooden boy...\"',\n",
       " \"Chandler: And yet you're surprisingly upbeat.\",\n",
       " 'Chandler: Oh, how well you know me...',\n",
       " \"Chandler: (as Rachel is cutting up her cards) Y'know, if you listen closely, you can hear a thousand retailers scream.\",\n",
       " 'Chandler: Did you make it, or are you just serving it?',\n",
       " \"Chandler: Kids, new dream... I'm in Las Vegas. (Rachel sits down to hear Chandler's dream.)\",\n",
       " \"Chandler: Okay, so, I'm in Las Vegas... I'm Liza Minelli-\"]"
      ]
     },
     "execution_count": 162,
     "metadata": {},
     "output_type": "execute_result"
    }
   ],
   "source": [
    "Chandler = re.findall(r'Chandler:.+', script101)\n",
    "Chandler"
   ]
  },
  {
   "cell_type": "code",
   "execution_count": 163,
   "id": "e6d24bed",
   "metadata": {},
   "outputs": [],
   "source": [
    "chandler = ''\n",
    "f = open('Chandler.txt', 'w', encoding = 'utf-8')\n",
    "for i in Chandler:\n",
    "    chandler += i + '\\n'\n",
    "f.write(chandler)\n",
    "f.close()"
   ]
  },
  {
   "cell_type": "markdown",
   "id": "11df07be",
   "metadata": {},
   "source": [
    "#### Paul"
   ]
  },
  {
   "cell_type": "code",
   "execution_count": 164,
   "id": "fd4860c2",
   "metadata": {},
   "outputs": [
    {
     "data": {
      "text/plain": [
       "[\"Paul: (over the intercom) It's, uh, it's Paul.\",\n",
       " 'Paul: Yeah?',\n",
       " \"Paul: I know, I know, I'm such an idiot. I guess I should have caught on when she started going to the dentist four and five times a week. I mean, how clean can teeth get?\",\n",
       " 'Paul: Well, you might try accidentally breaking something valuable of hers, say her-',\n",
       " \"Paul: (laughing) That's one way! Me, I- I went for the watch.\",\n",
       " 'Paul: Ooh, steer clear of you.',\n",
       " 'Paul: Ever since she walked out on me, I, uh...',\n",
       " \"Paul: No, it's, it's more of a fifth date kinda revelation.\",\n",
       " \"Paul: Isn't there?\",\n",
       " \"Paul: Well, ever-ev-... ever since she left me, um, I haven't been able to, uh, perform. (Monica takes a sip of her drink.) ...Sexually.\",\n",
       " \"Paul: It's okay...\",\n",
       " 'Paul: Two years.',\n",
       " 'Paul: So you still think you, um... might want that fifth date?',\n",
       " \"Paul: (entering from Monica's room) Morning.\",\n",
       " 'Paul: Thank you!  Thank you so much!',\n",
       " \"Paul: No, I'm telling you last night was like umm, all my birthdays, both graduations, plus the barn raising scene in Witness.\",\n",
       " 'Paul: Yeah. (They kiss) Thank you. (Exits)']"
      ]
     },
     "execution_count": 164,
     "metadata": {},
     "output_type": "execute_result"
    }
   ],
   "source": [
    "Paul = re.findall(r'Paul:.+', script101)\n",
    "Paul"
   ]
  },
  {
   "cell_type": "code",
   "execution_count": 165,
   "id": "944fc941",
   "metadata": {},
   "outputs": [],
   "source": [
    "paul = ''\n",
    "f = open('Paul.txt', 'w', encoding = 'utf-8')\n",
    "for i in Paul:\n",
    "    paul += i + '\\n'\n",
    "f.write(paul)\n",
    "f.close()"
   ]
  }
 ],
 "metadata": {
  "kernelspec": {
   "display_name": "Python 3 (ipykernel)",
   "language": "python",
   "name": "python3"
  },
  "language_info": {
   "codemirror_mode": {
    "name": "ipython",
    "version": 3
   },
   "file_extension": ".py",
   "mimetype": "text/x-python",
   "name": "python",
   "nbconvert_exporter": "python",
   "pygments_lexer": "ipython3",
   "version": "3.9.7"
  }
 },
 "nbformat": 4,
 "nbformat_minor": 5
}
