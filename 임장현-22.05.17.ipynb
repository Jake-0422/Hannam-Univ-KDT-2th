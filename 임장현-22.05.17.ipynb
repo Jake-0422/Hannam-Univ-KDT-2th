{
  "nbformat": 4,
  "nbformat_minor": 0,
  "metadata": {
    "colab": {
      "name": "Task_517.ipynb",
      "provenance": [],
      "collapsed_sections": []
    },
    "kernelspec": {
      "name": "python3",
      "display_name": "Python 3"
    },
    "language_info": {
      "name": "python"
    }
  },
  "cells": [
    {
      "cell_type": "markdown",
      "source": [
        "**5장 미니 프로젝트 A1 : 잡음제거: k-NN의 활용**"
      ],
      "metadata": {
        "id": "ROI5f0Dw8ypL"
      }
    },
    {
      "cell_type": "code",
      "execution_count": null,
      "metadata": {
        "id": "KZEC7tew7w0c"
      },
      "outputs": [],
      "source": [
        "import matplotlib.pyplot as plt\n",
        "import numpy as np\n",
        "\n",
        "from skimage.io import imread             # 이미지를 읽어 들인다\n",
        "from skimage.transform import resize      # 이미지의 크기를 변경할 수 있다"
      ]
    },
    {
      "cell_type": "code",
      "source": [
        "url = 'https://github.com/dknife/ML/raw/main/data/Proj1/40/'\n",
        "\n",
        "imgR, imgC, channel = 24, 24, 3\n",
        "images = []\n",
        "\n",
        "for i in range(40):\n",
        "    file = url + 'img{0:02d}.jpg'.format(i+1)    # 이미지 파일 이름을 만든다\n",
        "    img = imread(file)                           # 이미지를 읽는다\n",
        "    img = resize(img, (imgR,imgC, channel))      # 이미지의 크기를 변경한다\n",
        "    images.append(img)                           # images 리스트에 담는다"
      ],
      "metadata": {
        "id": "IqwIyC6G71gp"
      },
      "execution_count": null,
      "outputs": []
    },
    {
      "cell_type": "code",
      "source": [
        "# 이미지를 출력하는 함수 : plot_images\n",
        "def plot_images(nRow, nCol, img): \n",
        "    fig = plt.figure()\n",
        "    fig, ax = plt.subplots(nRow, nCol, figsize = (nCol,nRow))\n",
        "    for i in range(nRow):\n",
        "        for j in range(nCol):\n",
        "            if nRow <= 1: axis = ax[j]\n",
        "            else:         axis = ax[i, j]\n",
        "            axis.get_xaxis().set_visible(False)\n",
        "            axis.get_yaxis().set_visible(False)\n",
        "            axis.imshow(img[i*nCol+j])"
      ],
      "metadata": {
        "id": "csm97EFs73C5"
      },
      "execution_count": null,
      "outputs": []
    },
    {
      "cell_type": "code",
      "source": [
        "plot_images(4, 10, images)"
      ],
      "metadata": {
        "id": "QdrsVehM74vS"
      },
      "execution_count": null,
      "outputs": []
    },
    {
      "cell_type": "code",
      "source": [
        "X = np.array(images[:30]) # ndarray 클래스 객체로 변환(배열 생성)\n",
        "X_test = np.array(images[30:])\n",
        "plot_images(3, 10, X)\n",
        "plot_images(1, 10, X_test)"
      ],
      "metadata": {
        "id": "wusR1WbE76FM"
      },
      "execution_count": null,
      "outputs": []
    },
    {
      "cell_type": "code",
      "source": [
        "# 잡음을 생성\n",
        "# np.random.randn() : 평균0, 표준편차의 가우시안 표준정규분포 난수를 matrix array를 생성\n",
        "X_noisy = X + np.random.randn(len(X), imgR, imgC, channel)*0.1 \n",
        "X_test_noisy =  X_test+ np.random.randn(len(X_test),imgR,imgC,channel)*0.1\n",
        "\n",
        "# numpy.clip(array, min, max) : array 내의 element들에 대해서 \n",
        "# min 값 보다 작은 값들을 min값으로 바꿔주고 max 값 보다 큰 값들을 max값으로 바꿔주는 함수.\n",
        "X_noisy = np.clip(X_noisy, 0, 1)\n",
        "X_test_noisy = np.clip(X_test_noisy, 0, 1)"
      ],
      "metadata": {
        "id": "2_FGbjJ-77nF"
      },
      "execution_count": null,
      "outputs": []
    },
    {
      "cell_type": "code",
      "source": [
        "# 잡음이 추가된 이미지들을 그려보기\n",
        "plot_images(3, 10, X_noisy)\n",
        "plot_images(1, 10, X_test_noisy)"
      ],
      "metadata": {
        "id": "8WIW177A781F"
      },
      "execution_count": null,
      "outputs": []
    },
    {
      "cell_type": "code",
      "source": [
        "X_noisy_flat = X_noisy.reshape(-1, imgR*imgC*channel)\n",
        "X_flat = np.array(X.reshape(-1, imgR*imgC*channel) * 255, dtype=np.uint)"
      ],
      "metadata": {
        "id": "FFSJEGmg7-QX"
      },
      "execution_count": null,
      "outputs": []
    },
    {
      "cell_type": "code",
      "source": [
        "# 잡음 이미지를 입력으로 깨끗한 이미지를 정답으로 분류기를 훈련\n",
        "from sklearn.neighbors import KNeighborsClassifier\n",
        "knn = KNeighborsClassifier()\n",
        "knn.fit(X_noisy_flat, X_flat)"
      ],
      "metadata": {
        "id": "ERyuW7TE7_iL"
      },
      "execution_count": null,
      "outputs": []
    },
    {
      "cell_type": "code",
      "source": [
        "denoised_result = knn.predict(X_noisy_flat) # 예측\n",
        "\n",
        "# reshape : 배역의 차원을 변경 또는 행렬을 반환\n",
        "denoised_result = denoised_result.reshape(-1, imgR, imgC, channel)\n",
        "plot_images(3, 10, denoised_result)"
      ],
      "metadata": {
        "id": "DfDcTlik8A9H"
      },
      "execution_count": null,
      "outputs": []
    },
    {
      "cell_type": "markdown",
      "source": [
        "**데이터 증강을 통해 kNN을 적용하자.**"
      ],
      "metadata": {
        "id": "helQLPvn8t82"
      }
    },
    {
      "cell_type": "code",
      "source": [
        "n_augmentation = 100 # 어느정도 증가시킬지 정함\n",
        "X_noisy_aug = X + np.random.rand(len(X), imgR, imgC, channel) * 0.2\n",
        "y_label = np.array(X * 255, dtype = np.uint)\n",
        "y = y_label\n",
        "\n",
        "print(X_noisy.shape)\n",
        "for i in range(n_augmentation):\n",
        "\n",
        "    # np.random.randn() : 평균0, 표준편차의 가우시안 표준정규분포 난수를 matrix array를 생성\n",
        "    noisy_data = X + np.random.randn(len(X), imgR, imgC, channel) * 0.2\n",
        "    X_noisy_aug = np.append(X_noisy_aug, noisy_data, axis=0)\n",
        "\n",
        "    # 넘파이 배열 값 추가\n",
        "    y = np.append(y, y_label, axis = 0)\n",
        "\n",
        "# numpy.clip(array, min, max)\n",
        "X_noisy_aug = np.clip(X_noisy_aug, 0, 1)\n",
        "X_noisy_aug.shape, y.shape"
      ],
      "metadata": {
        "id": "v9Tml1xM8Cl9"
      },
      "execution_count": null,
      "outputs": []
    },
    {
      "cell_type": "code",
      "source": [
        "# 슬라이싱을 이용해서 데이터의 일부를 그림\n",
        "plot_images(1, 10, X_noisy_aug[0:300:30])"
      ],
      "metadata": {
        "id": "OThcCmmm8Cc1"
      },
      "execution_count": null,
      "outputs": []
    },
    {
      "cell_type": "code",
      "source": [
        "# 늘어난 데이터로 훈련\n",
        "X_noisy_aug_flat = X_noisy_aug.reshape(-1, imgR*imgC*channel)\n",
        "y_flat = y.reshape(-1, imgR*imgC*channel)\n",
        "\n",
        "knn.fit(X_noisy_aug_flat, y_flat)"
      ],
      "metadata": {
        "id": "IAA-GYTI8EZH"
      },
      "execution_count": null,
      "outputs": []
    },
    {
      "cell_type": "code",
      "source": [
        "# 잡음이 포함된 X_noisy_flat 이미지를 kNN 알고리즘을 이용하여 잡음을 제거\n",
        "denoised_result = knn.predict(X_noisy_flat)\n",
        "denoised_result = denoised_result.reshape(-1, imgR, imgC, channel)\n",
        "\n",
        "plot_images(3, 10, X_noisy)\n",
        "plot_images(3, 10, denoised_result)"
      ],
      "metadata": {
        "id": "fRolRbpl8M-V"
      },
      "execution_count": null,
      "outputs": []
    },
    {
      "cell_type": "markdown",
      "source": [
        "**8. 검증 데이터로 일반화 능력을 살펴보자**"
      ],
      "metadata": {
        "id": "KkHAggRz8nVT"
      }
    },
    {
      "cell_type": "code",
      "source": [
        "rndidx = np.random.randint(0, 20)\n",
        "data = X[rndidx:rndidx+10] + np.random.randn(10, imgR, imgC, channel)*0.4\n",
        "data = np.clip(data, 0, 1)\n",
        "data_flat = data.reshape(-1, imgR*imgC*channel)\n",
        "\n",
        "denoised = knn.predict(data_flat)\n",
        "denoised = denoised.reshape(-1, imgR, imgC, channel)\n",
        "denoised = np.clip(denoised, 0, 255)\n",
        "\n",
        "plot_images(1, 10, data)\n",
        "plot_images(1, 10, denoised)"
      ],
      "metadata": {
        "id": "FrubRh9Y8Qwo"
      },
      "execution_count": null,
      "outputs": []
    },
    {
      "cell_type": "code",
      "source": [
        "denoised = knn.predict(X_test_noisy.reshape(-1, imgR*imgC*channel))\n",
        "denoised = denoised.reshape(-1, imgR, imgC, channel)\n",
        "\n",
        "plot_images(1, 10, X_test_noisy)\n",
        "plot_images(1, 10, denoised)"
      ],
      "metadata": {
        "id": "O8jAWeJO8TDZ"
      },
      "execution_count": null,
      "outputs": []
    },
    {
      "cell_type": "code",
      "source": [
        "# 이미지 데이터를 증강시키기\n",
        "# ImageDataGenerator : 실시간 데이터 증강을 사용해서 텐서 이미지 데이터 배치를 생성\n",
        "from keras.preprocessing.image import ImageDataGenerator\n",
        "image_generator = ImageDataGenerator(\n",
        "    rotation_range=360,\n",
        "    zoom_range=0.1,\n",
        "    shear_range=0.1,\n",
        "    width_shift_range=0.1,\n",
        "    height_shift_range=0.1,\n",
        "    horizontal_flip=True,\n",
        "    vertical_flip=True)\n",
        "\n",
        "### 이미지 전처리 참고 링크 : https://keras.io/ko/preprocessing/image/"
      ],
      "metadata": {
        "id": "QKvRCXzU8UUO"
      },
      "execution_count": null,
      "outputs": []
    },
    {
      "cell_type": "code",
      "source": [
        "y_aug = X.reshape(-1, imgR, imgC, channel)\n",
        "\n",
        "# flow() : 스칼라 볼륨 데이터를 시각화하는 다른 함수를 증명하는 데 유용한 유체 흐름 데이터를 생성\n",
        "it = image_generator.flow(y_aug)\n",
        "nData = y_aug.shape[0]"
      ],
      "metadata": {
        "id": "o6PZv_Or8Vrw"
      },
      "execution_count": null,
      "outputs": []
    },
    {
      "cell_type": "code",
      "source": [
        "X_aug = y_aug + np.random.randn(nData, imgR, imgC, channel)*0.1"
      ],
      "metadata": {
        "id": "GsFkN9S98XG-"
      },
      "execution_count": null,
      "outputs": []
    },
    {
      "cell_type": "code",
      "source": [
        "n_augmentation = 500\n",
        "for _ in range(n_augmentation):\n",
        "    new_y = it.next()\n",
        "    new_X = new_y + np.random.randn(nData, imgR, imgC, channel)*0.1\n",
        "    y_aug = np.append(y_aug, new_y)    \n",
        "    X_aug = np.append(X_aug, new_X)\n",
        "\n",
        "y_aug = np.array(y_aug * 255, dtype = np.uint)\n",
        "y_aug = y_aug.reshape(-1, imgR, imgC, channel)\n",
        "X_aug = X_aug.reshape(-1, imgR, imgC, channel)"
      ],
      "metadata": {
        "id": "tkjTlfGU8YZ5"
      },
      "execution_count": null,
      "outputs": []
    },
    {
      "cell_type": "code",
      "source": [
        "y_aug = np.clip(y_aug, 0,255)\n",
        "X_aug = np.clip(X_aug, 0, 1)\n",
        "plot_images(3, 10, y_aug[30:])"
      ],
      "metadata": {
        "id": "UKprd1Bm8Zwk"
      },
      "execution_count": null,
      "outputs": []
    },
    {
      "cell_type": "code",
      "source": [
        "X_aug_flat = X_aug.reshape(-1, imgR*imgC*channel)\n",
        "y_aug_flat = y_aug.reshape(-1, imgR*imgC*channel)\n",
        "knn.fit(X_aug_flat, y_aug_flat)"
      ],
      "metadata": {
        "id": "IljC7ODH8aye"
      },
      "execution_count": null,
      "outputs": []
    },
    {
      "cell_type": "code",
      "source": [
        "denoised = knn.predict(X_test_noisy.reshape(-1, imgR*imgC*channel))\n",
        "denoised = denoised.reshape(-1, imgR, imgC, channel)\n",
        "plot_images(1, 10, X_test_noisy)\n",
        "plot_images(1, 10, denoised)"
      ],
      "metadata": {
        "id": "A8FXIVSk8cIZ"
      },
      "execution_count": null,
      "outputs": []
    },
    {
      "cell_type": "code",
      "source": [
        "# 보다 더 강한 잡음을 추가하도록 하자\n",
        "images = it.next()\n",
        "testX = images + np.random.randn(nData, imgR, imgC, channel)*0.4\n",
        "testX = np.clip(testX, 0, 1)\n",
        "denoised = knn.predict(testX.reshape(-1, imgR*imgC*channel))\n",
        "denoised = denoised.reshape(-1, imgR, imgC, channel)\n",
        "\n",
        "plot_images(1, 10, testX)\n",
        "plot_images(1, 10, denoised)"
      ],
      "metadata": {
        "id": "oAwIAM-Z8dcq"
      },
      "execution_count": null,
      "outputs": []
    }
  ]
}