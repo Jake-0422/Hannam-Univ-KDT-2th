{
 "cells": [
  {
   "cell_type": "markdown",
   "id": "c35c7caf",
   "metadata": {},
   "source": [
    "## 파이썬 라이브러리\n",
    "### OS"
   ]
  },
  {
   "cell_type": "code",
   "execution_count": 1,
   "id": "51d64857",
   "metadata": {},
   "outputs": [],
   "source": [
    "import os"
   ]
  },
  {
   "cell_type": "code",
   "execution_count": 4,
   "id": "43084443",
   "metadata": {
    "scrolled": true
   },
   "outputs": [
    {
     "data": {
      "text/plain": [
       "'C:\\\\Users\\\\JAKE\\\\anaconda3;C:\\\\Users\\\\JAKE\\\\anaconda3\\\\Library\\\\mingw-w64\\\\bin;C:\\\\Users\\\\JAKE\\\\anaconda3\\\\Library\\\\usr\\\\bin;C:\\\\Users\\\\JAKE\\\\anaconda3\\\\Library\\\\bin;C:\\\\Users\\\\JAKE\\\\anaconda3\\\\Scripts;C:\\\\Users\\\\JAKE\\\\anaconda3\\\\bin;C:\\\\Users\\\\JAKE\\\\anaconda3\\\\condabin;C:\\\\Users\\\\JAKE\\\\anaconda3;C:\\\\Users\\\\JAKE\\\\anaconda3\\\\Library\\\\mingw-w64\\\\bin;C:\\\\Users\\\\JAKE\\\\anaconda3\\\\Library\\\\usr\\\\bin;C:\\\\Users\\\\JAKE\\\\anaconda3\\\\Library\\\\bin;C:\\\\Users\\\\JAKE\\\\anaconda3\\\\Scripts;C:\\\\Program Files (x86)\\\\NAT Service;C:\\\\Program Files\\\\Common Files\\\\Oracle\\\\Java\\\\javapath;C:\\\\Windows\\\\system32;C:\\\\Windows;C:\\\\Windows\\\\System32\\\\Wbem;C:\\\\Windows\\\\System32\\\\WindowsPowerShell\\\\v1.0;C:\\\\Windows\\\\System32\\\\OpenSSH;C:\\\\Program Files (x86)\\\\NVIDIA Corporation\\\\PhysX\\\\Common;C:\\\\WINDOWS\\\\system32;C:\\\\WINDOWS;C:\\\\WINDOWS\\\\System32\\\\Wbem;\"C:\\\\WINDOWS\\\\System32\\\\WindowsPowerShell\\\\v1.0;C:\\\\Program Files\\\\Java\\\\jdk-17.0.2\\\\bin\";C:\\\\WINDOWS\\\\System32\\\\OpenSSH;C:\\\\Program Files\\\\Git\\\\cmd;C:\\\\Python310\\\\Scripts;C:\\\\Python310;C:\\\\Users\\\\JAKE\\\\AppData\\\\Local\\\\Microsoft\\\\WindowsApps;C:\\\\Users\\\\JAKE\\\\AppData\\\\Local\\\\Programs\\\\Microsoft VS Code\\\\bin;C:\\\\Users\\\\JAKE\\\\AppData\\\\Local\\\\GitHubDesktop\\\\bin'"
      ]
     },
     "execution_count": 4,
     "metadata": {},
     "output_type": "execute_result"
    }
   ],
   "source": [
    "os.environ['PATH']"
   ]
  },
  {
   "cell_type": "code",
   "execution_count": 5,
   "id": "53f8d8ed",
   "metadata": {},
   "outputs": [
    {
     "data": {
      "text/plain": [
       "'C:\\\\Users\\\\JAKE\\\\Desktop\\\\KDT 빅데이터 전문가 2기\\\\강의자료'"
      ]
     },
     "execution_count": 5,
     "metadata": {},
     "output_type": "execute_result"
    }
   ],
   "source": [
    "os.getcwd()"
   ]
  },
  {
   "cell_type": "code",
   "execution_count": 6,
   "id": "98a90cfe",
   "metadata": {},
   "outputs": [],
   "source": [
    "os.mkdir('test')"
   ]
  },
  {
   "cell_type": "code",
   "execution_count": 7,
   "id": "f01a9aa4",
   "metadata": {},
   "outputs": [],
   "source": [
    "os.rmdir('test')"
   ]
  },
  {
   "cell_type": "code",
   "execution_count": 8,
   "id": "1d051644",
   "metadata": {
    "scrolled": false
   },
   "outputs": [
    {
     "ename": "FileNotFoundError",
     "evalue": "[WinError 2] 지정된 파일을 찾을 수 없습니다: '새파일.txt'",
     "output_type": "error",
     "traceback": [
      "\u001b[1;31m---------------------------------------------------------------------------\u001b[0m",
      "\u001b[1;31mFileNotFoundError\u001b[0m                         Traceback (most recent call last)",
      "\u001b[1;32m~\\AppData\\Local\\Temp/ipykernel_8704/663560848.py\u001b[0m in \u001b[0;36m<module>\u001b[1;34m\u001b[0m\n\u001b[1;32m----> 1\u001b[1;33m \u001b[0mos\u001b[0m\u001b[1;33m.\u001b[0m\u001b[0munlink\u001b[0m\u001b[1;33m(\u001b[0m\u001b[1;34m'새파일.txt'\u001b[0m\u001b[1;33m)\u001b[0m\u001b[1;33m\u001b[0m\u001b[1;33m\u001b[0m\u001b[0m\n\u001b[0m",
      "\u001b[1;31mFileNotFoundError\u001b[0m: [WinError 2] 지정된 파일을 찾을 수 없습니다: '새파일.txt'"
     ]
    }
   ],
   "source": [
    "os.unlink('새파일.txt')"
   ]
  },
  {
   "cell_type": "markdown",
   "id": "7d49c090",
   "metadata": {},
   "source": [
    "### time"
   ]
  },
  {
   "cell_type": "code",
   "execution_count": 10,
   "id": "653db498",
   "metadata": {},
   "outputs": [],
   "source": [
    "import time"
   ]
  },
  {
   "cell_type": "code",
   "execution_count": 11,
   "id": "70222247",
   "metadata": {},
   "outputs": [
    {
     "data": {
      "text/plain": [
       "1648452563.28084"
      ]
     },
     "execution_count": 11,
     "metadata": {},
     "output_type": "execute_result"
    }
   ],
   "source": [
    "time.time()"
   ]
  },
  {
   "cell_type": "code",
   "execution_count": 12,
   "id": "c731266d",
   "metadata": {},
   "outputs": [
    {
     "data": {
      "text/plain": [
       "time.struct_time(tm_year=2022, tm_mon=3, tm_mday=28, tm_hour=16, tm_min=30, tm_sec=23, tm_wday=0, tm_yday=87, tm_isdst=0)"
      ]
     },
     "execution_count": 12,
     "metadata": {},
     "output_type": "execute_result"
    }
   ],
   "source": [
    "time.localtime(time.time())"
   ]
  },
  {
   "cell_type": "code",
   "execution_count": 13,
   "id": "bd66a5e0",
   "metadata": {},
   "outputs": [
    {
     "data": {
      "text/plain": [
       "'Mon Mar 28 16:32:16 2022'"
      ]
     },
     "execution_count": 13,
     "metadata": {},
     "output_type": "execute_result"
    }
   ],
   "source": [
    "time.asctime(time.localtime(time.time()))"
   ]
  },
  {
   "cell_type": "code",
   "execution_count": 14,
   "id": "3e9ba9d3",
   "metadata": {},
   "outputs": [
    {
     "data": {
      "text/plain": [
       "'Mon Mar 28 16:33:48 2022'"
      ]
     },
     "execution_count": 14,
     "metadata": {},
     "output_type": "execute_result"
    }
   ],
   "source": [
    "time.ctime()"
   ]
  },
  {
   "cell_type": "code",
   "execution_count": 17,
   "id": "0f2ae4f5",
   "metadata": {},
   "outputs": [
    {
     "data": {
      "text/plain": [
       "'Mon'"
      ]
     },
     "execution_count": 17,
     "metadata": {},
     "output_type": "execute_result"
    }
   ],
   "source": [
    "time.strftime('%a', time.localtime(time.time()))"
   ]
  },
  {
   "cell_type": "code",
   "execution_count": 19,
   "id": "72729910",
   "metadata": {},
   "outputs": [
    {
     "data": {
      "text/plain": [
       "'Sat Jan 24 14:20:00 2065'"
      ]
     },
     "execution_count": 19,
     "metadata": {},
     "output_type": "execute_result"
    }
   ],
   "source": [
    "time.asctime(time.localtime(3000000000))"
   ]
  },
  {
   "cell_type": "code",
   "execution_count": 20,
   "id": "2442694c",
   "metadata": {},
   "outputs": [
    {
     "name": "stdout",
     "output_type": "stream",
     "text": [
      "0\n",
      "1\n",
      "2\n",
      "3\n",
      "4\n",
      "5\n",
      "6\n",
      "7\n",
      "8\n",
      "9\n"
     ]
    }
   ],
   "source": [
    "for i in range(10):\n",
    "    print(i)\n",
    "    time.sleep(1)"
   ]
  },
  {
   "cell_type": "markdown",
   "id": "f2c30063",
   "metadata": {},
   "source": [
    "### random"
   ]
  },
  {
   "cell_type": "markdown",
   "id": "11f1ac08",
   "metadata": {},
   "source": [
    "import random\n",
    "random.random()"
   ]
  },
  {
   "cell_type": "code",
   "execution_count": 24,
   "id": "834b1f03",
   "metadata": {
    "scrolled": true
   },
   "outputs": [
    {
     "data": {
      "text/plain": [
       "6"
      ]
     },
     "execution_count": 24,
     "metadata": {},
     "output_type": "execute_result"
    }
   ],
   "source": [
    "random.randint(1, 10)"
   ]
  },
  {
   "cell_type": "code",
   "execution_count": 27,
   "id": "ee7b24cb",
   "metadata": {
    "scrolled": true
   },
   "outputs": [
    {
     "data": {
      "text/plain": [
       "[<matplotlib.lines.Line2D at 0x25a7a617040>]"
      ]
     },
     "execution_count": 27,
     "metadata": {},
     "output_type": "execute_result"
    },
    {
     "data": {
      "image/png": "[encoded data removed]",
      "text/plain": [
       "<Figure size 432x288 with 1 Axes>"
      ]
     },
     "metadata": {
      "needs_background": "light"
     },
     "output_type": "display_data"
    }
   ],
   "source": [
    "import random\n",
    "import matplotlib.pyplot as plt\n",
    "\n",
    "l = []\n",
    "\n",
    "for i in range(100):\n",
    "    l.append(random.randint(1, 10))\n",
    "    \n",
    "plt.plot(l)"
   ]
  },
  {
   "cell_type": "code",
   "execution_count": 33,
   "id": "e62da59c",
   "metadata": {},
   "outputs": [
    {
     "data": {
      "image/png": "[encoded data removed]",
      "text/plain": [
       "<Figure size 432x288 with 1 Axes>"
      ]
     },
     "metadata": {
      "needs_background": "light"
     },
     "output_type": "display_data"
    }
   ],
   "source": [
    "plt.hist(l)\n",
    "plt.show()"
   ]
  },
  {
   "cell_type": "code",
   "execution_count": 30,
   "id": "9c367118",
   "metadata": {},
   "outputs": [
    {
     "name": "stdout",
     "output_type": "stream",
     "text": [
      "5\n",
      "1\n",
      "4\n",
      "3\n",
      "2\n"
     ]
    }
   ],
   "source": [
    "#random_pop.py\n",
    "import random\n",
    "def random_pop(data):\n",
    "    number = random.randint(0, len(data)-1) #len 가능 = string, list, set, dict 등\n",
    "    return data.pop(number)\n",
    "\n",
    "#if __name__ == \"main\":\n",
    "data = [1, 2, 3, 4, 5]\n",
    "while data: #data가 True일 때\n",
    "    print(random_pop(data))"
   ]
  },
  {
   "cell_type": "markdown",
   "id": "0598cb24",
   "metadata": {},
   "source": [
    "### 정규표현식\n",
    "#### 점프 투 파이썬 P.291"
   ]
  },
  {
   "cell_type": "code",
   "execution_count": 34,
   "id": "a7460d65",
   "metadata": {
    "scrolled": true
   },
   "outputs": [
    {
     "name": "stdout",
     "output_type": "stream",
     "text": [
      "\n",
      "park 800905-*******\n",
      "kim 700905-*******\n",
      "\n"
     ]
    }
   ],
   "source": [
    "data = '''\n",
    "park 800905-1049118\n",
    "kim 700905-1059119\n",
    "'''\n",
    "#이상 전체 텍스트\n",
    "\n",
    "result = []\n",
    "for line in data.split(\"\\n\"): #공백 문자마다 나누기\n",
    "    word_result = []\n",
    "    for word in line.split(\" \"):\n",
    "        if len(word) == 14 and word[:6].isdigit() and word[7:].isdigit():\n",
    "            word = word[:6] + '-' + \"*******\"\n",
    "        word_result.append(word)\n",
    "    result.append(\" \".join(word_result)) #나눈 단어 조립하기\n",
    "print(\"\\n\".join(result))"
   ]
  },
  {
   "cell_type": "code",
   "execution_count": 39,
   "id": "a29c0cc4",
   "metadata": {
    "scrolled": true
   },
   "outputs": [
    {
     "name": "stdout",
     "output_type": "stream",
     "text": [
      "\n",
      "park 800905-*******\n",
      "kim 700905-*******\n",
      "\n"
     ]
    }
   ],
   "source": [
    "#정규표현식을 사용하기 위한 re 모듈\n",
    "import re \n",
    "data = '''\n",
    "park 800905-1049118\n",
    "kim 700905-1059119\n",
    "'''\n",
    "pat = re.compile('(\\d{6})[-]\\d{7}')\n",
    "print(pat.sub(\"\\g<1>-*******\", data))"
   ]
  },
  {
   "cell_type": "code",
   "execution_count": 52,
   "id": "7e418fa9",
   "metadata": {},
   "outputs": [
    {
     "name": "stdout",
     "output_type": "stream",
     "text": [
      "<re.Match object; span=(0, 6), match='python'>\n"
     ]
    }
   ],
   "source": [
    "import re\n",
    "p = re.compile('[a-z]+')\n",
    "m = p.match(\"python\") #match는 앞에서부터\n",
    "print(m)"
   ]
  },
  {
   "cell_type": "code",
   "execution_count": 53,
   "id": "2971a31e",
   "metadata": {},
   "outputs": [
    {
     "name": "stdout",
     "output_type": "stream",
     "text": [
      "['python', 'is', 'a', 'simple', 'language']\n"
     ]
    }
   ],
   "source": [
    "import re\n",
    "p = re.compile('[a-z]+')\n",
    "m = p.findall(\"python is a simple language\") #findall: 전체 다 찾아서 return\n",
    "print(m)"
   ]
  },
  {
   "cell_type": "code",
   "execution_count": 55,
   "id": "b2af3ccd",
   "metadata": {},
   "outputs": [
    {
     "name": "stdout",
     "output_type": "stream",
     "text": [
      "<re.Match object; span=(3, 8), match='ython'>\n"
     ]
    }
   ],
   "source": [
    "import re\n",
    "p = re.compile('[a-z]+')\n",
    "m = p.search(\"3 Python is a simple language\")\n",
    "print(m)"
   ]
  },
  {
   "cell_type": "code",
   "execution_count": 58,
   "id": "a7cec1e3",
   "metadata": {},
   "outputs": [
    {
     "name": "stdout",
     "output_type": "stream",
     "text": [
      "<callable_iterator object at 0x0000025A7A9892B0>\n",
      "<re.Match object; span=(0, 4), match='life'>\n",
      "<re.Match object; span=(5, 7), match='is'>\n",
      "<re.Match object; span=(8, 11), match='too'>\n",
      "<re.Match object; span=(12, 17), match='short'>\n"
     ]
    }
   ],
   "source": [
    "result = p.finditer('life is too short')\n",
    "print(result)\n",
    "for r in result:\n",
    "    print(r)\n",
    "#출력값에서 span은 index에 해당한다."
   ]
  },
  {
   "cell_type": "code",
   "execution_count": 57,
   "id": "afc4a73b",
   "metadata": {},
   "outputs": [
    {
     "data": {
      "text/plain": [
       "range(0, 10)"
      ]
     },
     "execution_count": 57,
     "metadata": {},
     "output_type": "execute_result"
    }
   ],
   "source": [
    "range(0, 10)"
   ]
  },
  {
   "cell_type": "markdown",
   "id": "082ce810",
   "metadata": {},
   "source": [
    "### 패스워드 검사 프로그램\n",
    "#### 따라하며 배우는 파이썬 P. 241"
   ]
  },
  {
   "cell_type": "code",
   "execution_count": 3,
   "id": "ace57f2d",
   "metadata": {},
   "outputs": [
    {
     "name": "stdout",
     "output_type": "stream",
     "text": [
      "패스워드를 입력하세요 : Hannamuniversities1!\n",
      "유효한 패스워드\n"
     ]
    }
   ],
   "source": [
    "#패스워드 검사 프로그램\n",
    "\n",
    "import re\n",
    "\n",
    "while True:\n",
    "    password = input(\"패스워드를 입력하세요 : \")\n",
    "    if len(password) < 8 or not re.search(\"[a-z]\", password) or not \\\n",
    "    re.search(\"[A-Z]\", password) or not re.search(\"[_@$!]\", password) or not \\\n",
    "    re.search(\"[0-9]\", password):\n",
    "        print('유효하지 않은 패스워드!')\n",
    "    else:\n",
    "        print('유효한 패스워드')\n",
    "        break"
   ]
  },
  {
   "cell_type": "code",
   "execution_count": 12,
   "id": "5fba4660",
   "metadata": {},
   "outputs": [],
   "source": [
    "txt = 'abc@facebook.com와 bbc@google.com, 그리고 abc@g9.com, python@example-com, drj@hnu.kr에서 이메일이 도착했습니다.'"
   ]
  },
  {
   "cell_type": "code",
   "execution_count": 13,
   "id": "4061a044",
   "metadata": {},
   "outputs": [
    {
     "name": "stdout",
     "output_type": "stream",
     "text": [
      "['abc@facebook.com', 'bbc@google.com', 'abc@g9.com', 'python@example', 'drj@hnu.kr']\n"
     ]
    }
   ],
   "source": [
    "output = re.findall('\\S+@[a-zA-Z0-9.]+', txt)\n",
    "print(output)"
   ]
  },
  {
   "cell_type": "code",
   "execution_count": 14,
   "id": "db825960",
   "metadata": {
    "scrolled": true
   },
   "outputs": [
    {
     "name": "stdout",
     "output_type": "stream",
     "text": [
      "이메일을 입력하세요 :casillas5025@naver.com\n",
      "이메일이 유효합니다!\n"
     ]
    }
   ],
   "source": [
    "email = input(\"이메일을 입력하세요 :\")\n",
    "while True:\n",
    "    if not re.search('\\S+@[a-zA-Z0-9.]+[a-zA-Z0-9]+', email):\n",
    "        print('유효한 이메일을 입력하세요.')\n",
    "    else:\n",
    "        print('이메일이 유효합니다!')\n",
    "        break"
   ]
  },
  {
   "cell_type": "markdown",
   "id": "4bc7a080",
   "metadata": {},
   "source": [
    "### Class - 세탁기"
   ]
  },
  {
   "cell_type": "code",
   "execution_count": 15,
   "id": "fbce5aab",
   "metadata": {},
   "outputs": [],
   "source": [
    "class Washer:\n",
    "    def __init__(self, size, maker): #생성자 #필요정보요구 # a = Washer(10, 'LG')\n",
    "        self.size = size\n",
    "        self.maker = maker\n",
    "        \n",
    "    def washing(self):\n",
    "        detergent()\n",
    "        print(\"{}세탁기가 {}kg의 빨래를 한다~\".format(self.maker, self.size))\n",
    "\n",
    "def detergent():\n",
    "    print(\"세제 투입\")"
   ]
  },
  {
   "cell_type": "code",
   "execution_count": 16,
   "id": "0ded28b5",
   "metadata": {},
   "outputs": [],
   "source": [
    "class LGWasher(Washer):\n",
    "    def __init__(self, size, maker, name):\n",
    "        super().__init__(size, maker)\n",
    "        self.name = name\n",
    "    def info(self):\n",
    "        print(\"사이즈 :\", self.size)\n",
    "        print(\"메이커 :\", self.maker)\n",
    "        print(\"제품명 :\", self.name)"
   ]
  },
  {
   "cell_type": "code",
   "execution_count": 17,
   "id": "e7b629b4",
   "metadata": {},
   "outputs": [
    {
     "name": "stdout",
     "output_type": "stream",
     "text": [
      "사이즈 : 10\n",
      "메이커 : LG\n",
      "제품명 : 트롬\n"
     ]
    }
   ],
   "source": [
    "LGTromm = LGWasher(10, 'LG', '트롬')\n",
    "LGTromm.info()"
   ]
  },
  {
   "cell_type": "code",
   "execution_count": 18,
   "id": "5d910633",
   "metadata": {},
   "outputs": [
    {
     "name": "stdout",
     "output_type": "stream",
     "text": [
      "세제 투입\n",
      "LG세탁기가 10kg의 빨래를 한다~\n"
     ]
    }
   ],
   "source": [
    "LG = Washer(10, \"LG\")\n",
    "LG.washing()"
   ]
  },
  {
   "cell_type": "code",
   "execution_count": 19,
   "id": "d54bea71",
   "metadata": {},
   "outputs": [
    {
     "name": "stdout",
     "output_type": "stream",
     "text": [
      "세제 투입\n",
      "Samsung세탁기가 20kg의 빨래를 한다~\n"
     ]
    }
   ],
   "source": [
    "Samsung = Washer(20, 'Samsung')\n",
    "Samsung.washing()"
   ]
  }
 ],
 "metadata": {
  "kernelspec": {
   "display_name": "Python 3 (ipykernel)",
   "language": "python",
   "name": "python3"
  },
  "language_info": {
   "codemirror_mode": {
    "name": "ipython",
    "version": 3
   },
   "file_extension": ".py",
   "mimetype": "text/x-python",
   "name": "python",
   "nbconvert_exporter": "python",
   "pygments_lexer": "ipython3",
   "version": "3.9.7"
  }
 },
 "nbformat": 4,
 "nbformat_minor": 5
}
