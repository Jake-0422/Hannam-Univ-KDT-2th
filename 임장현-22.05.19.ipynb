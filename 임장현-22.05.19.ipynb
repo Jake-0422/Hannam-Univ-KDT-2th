{
  "cells": [
    {
      "cell_type": "markdown",
      "metadata": {
        "id": "oQhR1VMYRjMH"
      },
      "source": [
        "### LAB 7-5 : XOR 연산이 가능한 다층 퍼셉트론 만들기"
      ]
    },
    {
      "cell_type": "code",
      "execution_count": null,
      "metadata": {
        "id": "iYEggK_ARohF"
      },
      "outputs": [],
      "source": [
        "import numpy as np\n",
        "import matplotlib.pyplot as plt"
      ]
    },
    {
      "cell_type": "code",
      "execution_count": null,
      "metadata": {
        "id": "3JFrADH8RyAm"
      },
      "outputs": [],
      "source": [
        "# np.random.randn() : 평균0, 표준편차의 가우시안 표준정규분포 난수를 matrix array를 생성\n",
        "U = np.random.rand(2,3)   # 연결강도 \n",
        "W = np.random.rand(3,2)   # 연결강도 \n",
        "learning_rate = 1.0       # 학습률 "
      ]
    },
    {
      "cell_type": "code",
      "execution_count": null,
      "metadata": {
        "id": "9sN0j9SeSPWt"
      },
      "outputs": [],
      "source": [
        "# 0에서 1 사이의 함수이며, 값이 들어왔을 때, 0~1 사이의 값을 반환한다.\n",
        "def sigmoid(v):\n",
        "    return 1 / (1+np.exp(-v))\n",
        "\n",
        "def derivative_sigmoid(v):\n",
        "    s = sigmoid(v)\n",
        "    return s*(1-s)"
      ]
    },
    {
      "cell_type": "code",
      "execution_count": null,
      "metadata": {
        "id": "ja5YfC_6SQ-L"
      },
      "outputs": [],
      "source": [
        "# np.zeros() : 0으로 초기화된 shqpe 차원의 ndarray 배열 객체를 반환\n",
        "input = np.zeros(2)\n",
        "\n",
        "# 순전파시 계산될 값들\n",
        "h_sum, h_out, h_deriv = np.zeros(3), np.zeros(3), np.zeros(3)\n",
        "# 역전파시 계산될 값들 \n",
        "h_error, h_delta = np.zeros(3), np.zeros(3)                  \n",
        "\n",
        "# 순전파시 계산될 값들 \n",
        "y_sum, y_out, y_deriv = np.zeros(2), np.zeros(2), np.zeros(2)\n",
        "# 역전파시 계산될 값들 \n",
        "y_error, y_delta = np.zeros(2), np.zeros(2)"
      ]
    },
    {
      "cell_type": "code",
      "execution_count": null,
      "metadata": {
        "id": "cS8fw2cLSUhq"
      },
      "outputs": [],
      "source": [
        "# forward_xh() : 은닉층\n",
        "def forward_xh(x):\n",
        "    global input, h_sum, h_out, h_deriv\n",
        "    input = x\n",
        "    h_sum = U.T.dot(input)                 # 은닉층에서 합산된 값\n",
        "    h_out = sigmoid(h_sum)                 # 은닉층의 활성화 값\n",
        "    h_deriv = derivative_sigmoid(h_sum)    # 은닉층 활성화 미분치"
      ]
    },
    {
      "cell_type": "code",
      "execution_count": null,
      "metadata": {
        "id": "noDseci6Snpo"
      },
      "outputs": [],
      "source": [
        "# forward_hy() : 출력층\n",
        "def forward_hy():\n",
        "    global y_sum, y_out, y_deriv\n",
        "    y_sum = W.T.dot(h_out)                  # 출력층에서 합산된 값\n",
        "    y_out = sigmoid(y_sum)                  # 출력층의 활성화 값\n",
        "    y_deriv = derivative_sigmoid(y_sum)     # 출력층의 활성화 미분치"
      ]
    },
    {
      "cell_type": "code",
      "execution_count": null,
      "metadata": {
        "id": "voh88bUeSqVB"
      },
      "outputs": [],
      "source": [
        "def compute_error(target):\n",
        "    return y_out - target                   # 오차의 계산"
      ]
    },
    {
      "cell_type": "code",
      "execution_count": null,
      "metadata": {
        "id": "-3zlHV2aSsjZ"
      },
      "outputs": [],
      "source": [
        "# backward_y() : 출력층 오차\n",
        "def backward_y(error):\n",
        "    global y_error, y_delta, W\n",
        "    y_error = error                                    # 출력층 오차\n",
        "    y_delta = y_deriv * y_error                        # 출력층에서 보내는 델타\n",
        "    ## 연결강도 W 수정\n",
        "    dW = - learning_rate * np.outer(h_out, y_delta)    # 연결강도 갱신: 은닉층 출력과 출력층 델타의 외적\n",
        "    W = W + dW   "
      ]
    },
    {
      "cell_type": "code",
      "execution_count": null,
      "metadata": {
        "id": "PlE54jkLSvNC"
      },
      "outputs": [],
      "source": [
        "def backward_h():\n",
        "   global h_error, h_delta, U\n",
        "   h_error = W.dot(y_delta)                             # 은닉층 오차\n",
        "   h_delta = h_deriv * h_error                          # 은닉층에서 보내는 델타\n",
        "   ## 연결강도 U 수정\n",
        "   dU = - learning_rate * np.outer(input, h_delta)      # 연결강도 갱신\n",
        "   U = U + dU  "
      ]
    },
    {
      "cell_type": "code",
      "execution_count": null,
      "metadata": {
        "id": "t0e4ZygcSx_z"
      },
      "outputs": [],
      "source": [
        "def train(x, target):\n",
        "    forward_xh(x)\n",
        "    forward_hy()\n",
        "    e = compute_error(target)\n",
        "    backward_y(e)\n",
        "    backward_h()\n",
        "    return e**2"
      ]
    },
    {
      "cell_type": "code",
      "execution_count": null,
      "metadata": {
        "id": "v5vUsbKmS0bM"
      },
      "outputs": [],
      "source": [
        "loss = []\n",
        "\n",
        "for i in range(1000):\n",
        "    e_accum=0\n",
        "    true = np.array([1,0])\n",
        "    false = np.array([0,1])\n",
        "    e_accum += train(np.array([0,0]), false)    # 훈련 데이터 1 \n",
        "    e_accum += train(np.array([0,1]), true)     # 훈련 데이터 2\n",
        "    e_accum += train(np.array([1,0]), true)     # 훈련 데이터 3\n",
        "    e_accum += train(np.array([1,1]), false)    # 훈련 데이터 4\n",
        "    loss.append(e_accum)"
      ]
    },
    {
      "cell_type": "code",
      "execution_count": null,
      "metadata": {
        "colab": {
          "base_uri": "https://localhost:8080/",
          "height": 219
        },
        "id": "9gQO_AFPS4KF",
        "outputId": "90a74847-b751-4d31-a515-6ad245217269"
      },
      "outputs": [
        {
          "data": {
            "image/png": "[encoded data removed]",
            "text/plain": [
              "<Figure size 432x288 with 1 Axes>"
            ]
          },
          "metadata": {},
          "output_type": "display_data"
        }
      ],
      "source": [
        "plt.plot(loss)\n",
        "plt.ylabel('loss')\n",
        "plt.xlabel('training')\n",
        "plt.show()"
      ]
    },
    {
      "cell_type": "code",
      "execution_count": null,
      "metadata": {
        "id": "nArPP0bkTFnx"
      },
      "outputs": [],
      "source": [
        "def test(X):\n",
        "    y_hat = []\n",
        "    for x in X:\n",
        "        forward_xh(x)\n",
        "        forward_hy()\n",
        "        y_hat.append(y_out)\n",
        "    return y_hat"
      ]
    },
    {
      "cell_type": "code",
      "execution_count": null,
      "metadata": {
        "colab": {
          "base_uri": "https://localhost:8080/"
        },
        "id": "36glHze-UZqu",
        "outputId": "a2d8c334-70de-4788-972c-cd2ade34e768"
      },
      "outputs": [
        {
          "data": {
            "text/plain": [
              "[array([0.11705313, 0.88354347]),\n",
              " array([0.92765287, 0.0719434 ]),\n",
              " array([0.92715233, 0.072433  ]),\n",
              " array([0.03426373, 0.96605536])]"
            ]
          },
          "execution_count": 37,
          "metadata": {},
          "output_type": "execute_result"
        }
      ],
      "source": [
        "test(np.array([[0, 0], [0, 1], [1, 0], [1, 1]]))"
      ]
    }
  ],
  "metadata": {
    "colab": {
      "collapsed_sections": [],
      "name": "Task_519.ipynb",
      "provenance": [],
      "toc_visible": true
    },
    "kernelspec": {
      "display_name": "Python 3",
      "name": "python3"
    },
    "language_info": {
      "name": "python"
    }
  },
  "nbformat": 4,
  "nbformat_minor": 0
}