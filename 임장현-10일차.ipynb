{
 "cells": [
  {
   "cell_type": "code",
   "execution_count": 2,
   "id": "912425f4",
   "metadata": {
    "scrolled": true
   },
   "outputs": [
    {
     "name": "stdout",
     "output_type": "stream",
     "text": [
      "Enter the number: 7\n",
      "*******\n"
     ]
    }
   ],
   "source": [
    "#Q1.\n",
    "def starprint(n):\n",
    "    print('*' * n)\n",
    "\n",
    "n = int(input('Enter the number: '))\n",
    "starprint(n)"
   ]
  },
  {
   "cell_type": "code",
   "execution_count": 5,
   "id": "6234793a",
   "metadata": {},
   "outputs": [
    {
     "name": "stdout",
     "output_type": "stream",
     "text": [
      "[11, 3, 28]\n"
     ]
    }
   ],
   "source": [
    "#Q2.\n",
    "def operator(a, b):\n",
    "    return[a + b, a - b, a * b] # 기존 return()은 튜플형태지만 []로 입력하면서 리스트로 출력\n",
    "\n",
    "print(operator(7, 4))"
   ]
  },
  {
   "cell_type": "code",
   "execution_count": null,
   "id": "517015c7",
   "metadata": {},
   "outputs": [],
   "source": [
    "#Q3."
   ]
  },
  {
   "cell_type": "code",
   "execution_count": null,
   "id": "95d4022a",
   "metadata": {},
   "outputs": [],
   "source": [
    "def grade(n):\n",
    "    grade = \n",
    "    if 90 <= a <=100:\n",
    "        grade = A\n",
    "    "
   ]
  },
  {
   "cell_type": "code",
   "execution_count": 9,
   "id": "1ae69d62",
   "metadata": {},
   "outputs": [
    {
     "data": {
      "text/plain": [
       "78.5"
      ]
     },
     "execution_count": 9,
     "metadata": {},
     "output_type": "execute_result"
    }
   ],
   "source": [
    "#Q4\n",
    "def surf(r):\n",
    "    return 3.14 * (r*r)\n",
    "\n",
    "surf(5)"
   ]
  },
  {
   "cell_type": "code",
   "execution_count": 13,
   "id": "b2762777",
   "metadata": {},
   "outputs": [
    {
     "data": {
      "text/plain": [
       "21"
      ]
     },
     "execution_count": 13,
     "metadata": {},
     "output_type": "execute_result"
    }
   ],
   "source": [
    "#Q5\n",
    "def fun(n):\n",
    "    sum = 0\n",
    "    for i in range(1, n):\n",
    "        sum = sum + n % 5\n",
    "    return sum\n",
    "\n",
    "fun(8)"
   ]
  },
  {
   "cell_type": "code",
   "execution_count": 18,
   "id": "c138c8d5",
   "metadata": {},
   "outputs": [
    {
     "data": {
      "text/plain": [
       "'15427'"
      ]
     },
     "execution_count": 18,
     "metadata": {},
     "output_type": "execute_result"
    }
   ],
   "source": [
    "#Q6 #for문 사용\n",
    "def rev(n):\n",
    "    n2 = ''\n",
    "    n = str(n) #문자열 전환\n",
    "    l = len(n)\n",
    "    for i in range(l-1, -1, -1): #range(시작, 종료값, 중간값)\n",
    "        n2 = n2 + n[i]\n",
    "    return n2\n",
    "\n",
    "rev(72451)"
   ]
  },
  {
   "cell_type": "code",
   "execution_count": 19,
   "id": "a301fff7",
   "metadata": {},
   "outputs": [
    {
     "data": {
      "text/plain": [
       "['1', '5', '4', '2', '7']"
      ]
     },
     "execution_count": 19,
     "metadata": {},
     "output_type": "execute_result"
    }
   ],
   "source": [
    "#Q6 #리스트 사용\n",
    "\n",
    "def rev(n):\n",
    "    n = str(n) #문자열 전환\n",
    "    n = list(n)\n",
    "    n.reverse()\n",
    "    return n\n",
    "\n",
    "rev(72451)"
   ]
  },
  {
   "cell_type": "code",
   "execution_count": 24,
   "id": "ae2a9716",
   "metadata": {
    "scrolled": true
   },
   "outputs": [
    {
     "name": "stdout",
     "output_type": "stream",
     "text": [
      "2333316668\n"
     ]
    }
   ],
   "source": [
    "#Q7.\n",
    "def ismullThree(n):\n",
    "    if n % 3 == 0:\n",
    "        return n\n",
    "def ismullFive(n):\n",
    "    if n % 5 == 0:\n",
    "        return n\n",
    "sum = 0\n",
    "for i in range(100000):\n",
    "    if ismullThree(i):\n",
    "        sum = sum + i\n",
    "    if ismullFive(i):\n",
    "        sum = sum + i\n",
    "    if ismullThree(i) and ismullFive(i):\n",
    "        sum = sum - i #3과 5의 공배수를 한 번 빼주는 작업\n",
    "\n",
    "print(sum)"
   ]
  },
  {
   "cell_type": "code",
   "execution_count": 4,
   "id": "c00174b2",
   "metadata": {},
   "outputs": [
    {
     "name": "stdout",
     "output_type": "stream",
     "text": [
      "Enter the number : 1234567\n"
     ]
    },
    {
     "data": {
      "text/plain": [
       "1234567"
      ]
     },
     "execution_count": 4,
     "metadata": {},
     "output_type": "execute_result"
    }
   ],
   "source": [
    "#Q8.\n",
    "def func(n):\n",
    "    while n >= 10:\n",
    "        sum = 0\n",
    "        s = str(n)\n",
    "        for i in s:\n",
    "            sum = sum + int(i)\n",
    "        n = sum\n",
    "        print(n)\n",
    "        \n",
    "int(input(\"Enter the number : \"))"
   ]
  },
  {
   "cell_type": "code",
   "execution_count": 2,
   "id": "97e7a5d7",
   "metadata": {
    "scrolled": false
   },
   "outputs": [
    {
     "name": "stdout",
     "output_type": "stream",
     "text": [
      "28\n",
      "10\n",
      "1\n"
     ]
    }
   ],
   "source": [
    "func(1234567)"
   ]
  },
  {
   "cell_type": "code",
   "execution_count": 8,
   "id": "75283bf9",
   "metadata": {
    "scrolled": true
   },
   "outputs": [
    {
     "name": "stdout",
     "output_type": "stream",
     "text": [
      "[5, 1, 7, 3, 6, 2]\n"
     ]
    }
   ],
   "source": [
    "#Q9.\n",
    "list = [5, 1, 7, 2, 6, 3]\n",
    "def swap(i, j):\n",
    "    n = 0\n",
    "    n = list[i]\n",
    "    list[i] = list[j]\n",
    "    list[j] = n\n",
    "    return list\n",
    "    \n",
    "i, j = 3, 5\n",
    "swap(i, j)\n",
    "print(list) "
   ]
  },
  {
   "cell_type": "code",
   "execution_count": 7,
   "id": "af3c88f6",
   "metadata": {},
   "outputs": [
    {
     "name": "stdout",
     "output_type": "stream",
     "text": [
      "Enter the sentence : This is my favorite fruit\n",
      "['THIS', 'IS', 'MY', 'FAVORITE', 'FRUIT']\n"
     ]
    }
   ],
   "source": [
    "#Q10.\n",
    "def wordlist(string):\n",
    "    s = string.upper()\n",
    "    return s.split()\n",
    "\n",
    "string = input('Enter the sentence : ')\n",
    "print(wordlist(string))"
   ]
  }
 ],
 "metadata": {
  "kernelspec": {
   "display_name": "Python 3 (ipykernel)",
   "language": "python",
   "name": "python3"
  },
  "language_info": {
   "codemirror_mode": {
    "name": "ipython",
    "version": 3
   },
   "file_extension": ".py",
   "mimetype": "text/x-python",
   "name": "python",
   "nbconvert_exporter": "python",
   "pygments_lexer": "ipython3",
   "version": "3.9.7"
  }
 },
 "nbformat": 4,
 "nbformat_minor": 5
}
